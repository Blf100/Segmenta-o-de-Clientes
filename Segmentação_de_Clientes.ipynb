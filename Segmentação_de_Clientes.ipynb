{
  "nbformat": 4,
  "nbformat_minor": 0,
  "metadata": {
    "colab": {
      "provenance": [],
      "mount_file_id": "19TwciIAQ3Vr1xIuDuPgDyhFbUM5qsnbo",
      "authorship_tag": "ABX9TyMoQMGYhO9OlaS+p1S3ioFq",
      "include_colab_link": true
    },
    "kernelspec": {
      "name": "python3",
      "display_name": "Python 3"
    },
    "language_info": {
      "name": "python"
    }
  },
  "cells": [
    {
      "cell_type": "markdown",
      "metadata": {
        "id": "view-in-github",
        "colab_type": "text"
      },
      "source": [
        "<a href=\"https://colab.research.google.com/github/Blf100/Segmenta-o-de-Clientes/blob/main/Segmenta%C3%A7%C3%A3o_de_Clientes.ipynb\" target=\"_parent\"><img src=\"https://colab.research.google.com/assets/colab-badge.svg\" alt=\"Open In Colab\"/></a>"
      ]
    },
    {
      "cell_type": "markdown",
      "source": [
        "# Olist e-commerce: segmentação de clientes\n",
        "\n",
        "O objetivo do projeto é identificar quais grupos de clientes são mais ativos na plataforma. Para executar essa análise, iremos realizar uma segmentação por meio de análise de clusters, utilizando o algorítimo de machine learrning k-means. No final do projeto, será possível planejar e executar estratégias com base nas carecterísticas inerentes a cada grupo de clientes."
      ],
      "metadata": {
        "id": "ukZCHr4I77Lt"
      }
    },
    {
      "cell_type": "markdown",
      "source": [
        "### Importando as Bibliotecas"
      ],
      "metadata": {
        "id": "0SGe2x0b8SOG"
      }
    },
    {
      "cell_type": "code",
      "execution_count": 3,
      "metadata": {
        "id": "5PAA6mRR7oax"
      },
      "outputs": [],
      "source": [
        "import pandas as pd\n",
        "import numpy as np\n",
        "import seaborn as sns\n",
        "import matplotlib.pyplot as plt\n",
        "from sklearn.preprocessing import StandardScaler\n",
        "from sklearn.cluster import KMeans\n",
        "import warnings\n",
        "plt.style.use('ggplot')\n",
        "warnings.simplefilter(\"ignore\")\n",
        "pd.set_option('display.max_columns', None)"
      ]
    },
    {
      "cell_type": "markdown",
      "source": [
        "### Carregando os Dados\n",
        "\n",
        "\n",
        "\n",
        "\n",
        "\n",
        "\n"
      ],
      "metadata": {
        "id": "5sJTAK_YAoJ6"
      }
    },
    {
      "cell_type": "code",
      "source": [
        "df_olist_orders = pd.read_csv('/content/drive/MyDrive/Colab Notebooks/Projetos/Olist E-commerce/Dados/olist_orders_dataset.csv')\n",
        "df_olist_items = pd.read_csv('/content/drive/MyDrive/Colab Notebooks/Projetos/Olist E-commerce/Dados/olist_order_items_dataset.csv')\n",
        "df_olist_customers = pd.read_csv('/content/drive/MyDrive/Colab Notebooks/Projetos/Olist E-commerce/Dados/olist_customers_dataset.csv')"
      ],
      "metadata": {
        "id": "mx3vBP4-AGDb"
      },
      "execution_count": 4,
      "outputs": []
    },
    {
      "cell_type": "markdown",
      "source": [
        "### Análise Exploratória de Dados\n",
        "\n",
        "\n",
        "*   Investigar valores nulos\n",
        "*   Verificar o tipo dos dados\n",
        "*   Encontra possíveis valores duplicados\n",
        "*   Analisar a distribuição da variáveis\n",
        "\n"
      ],
      "metadata": {
        "id": "U3lqlDk1B7WQ"
      }
    },
    {
      "cell_type": "markdown",
      "source": [
        "#### Análise exploratória olist_oders"
      ],
      "metadata": {
        "id": "AXfyvpb5DRiQ"
      }
    },
    {
      "cell_type": "markdown",
      "source": [
        "##### **df_olist_orders**: contêm informações sobre os pedidos dos clientes. \n",
        "* order_id: identificador único do pedido\n",
        "* customers_id: identificador único do cliente\n",
        "* order_status: situação do pedido\n",
        "* order_purchase_timestamp: data e hora da realização do pedido\n",
        "* order_approved_at: data e hora da aprovação da compra\n",
        "* order_delivered_carrier_date: data e hora do lançamento do pedido\n",
        "* order_delivered_customer_date: data e hora da entrega do pedido\n",
        "* order_estimated_delivery_date: data e hora da entrega informado no momento da do pedido"
      ],
      "metadata": {
        "id": "kC4EBt7RKQ_S"
      }
    },
    {
      "cell_type": "markdown",
      "source": [
        "Vizualizando as cinco primeiras linhas do dataset"
      ],
      "metadata": {
        "id": "JWDY8HSmKrxL"
      }
    },
    {
      "cell_type": "code",
      "source": [
        "df_olist_orders.head(5)"
      ],
      "metadata": {
        "colab": {
          "base_uri": "https://localhost:8080/",
          "height": 270
        },
        "id": "i0fuBX8bBjPD",
        "outputId": "f7054fd4-d0e4-4485-f382-b036ae1d32c3"
      },
      "execution_count": 5,
      "outputs": [
        {
          "output_type": "execute_result",
          "data": {
            "text/plain": [
              "                           order_id                       customer_id  \\\n",
              "0  e481f51cbdc54678b7cc49136f2d6af7  9ef432eb6251297304e76186b10a928d   \n",
              "1  53cdb2fc8bc7dce0b6741e2150273451  b0830fb4747a6c6d20dea0b8c802d7ef   \n",
              "2  47770eb9100c2d0c44946d9cf07ec65d  41ce2a54c0b03bf3443c3d931a367089   \n",
              "3  949d5b44dbf5de918fe9c16f97b45f8a  f88197465ea7920adcdbec7375364d82   \n",
              "4  ad21c59c0840e6cb83a9ceb5573f8159  8ab97904e6daea8866dbdbc4fb7aad2c   \n",
              "\n",
              "  order_status order_purchase_timestamp    order_approved_at  \\\n",
              "0    delivered      2017-10-02 10:56:33  2017-10-02 11:07:15   \n",
              "1    delivered      2018-07-24 20:41:37  2018-07-26 03:24:27   \n",
              "2    delivered      2018-08-08 08:38:49  2018-08-08 08:55:23   \n",
              "3    delivered      2017-11-18 19:28:06  2017-11-18 19:45:59   \n",
              "4    delivered      2018-02-13 21:18:39  2018-02-13 22:20:29   \n",
              "\n",
              "  order_delivered_carrier_date order_delivered_customer_date  \\\n",
              "0          2017-10-04 19:55:00           2017-10-10 21:25:13   \n",
              "1          2018-07-26 14:31:00           2018-08-07 15:27:45   \n",
              "2          2018-08-08 13:50:00           2018-08-17 18:06:29   \n",
              "3          2017-11-22 13:39:59           2017-12-02 00:28:42   \n",
              "4          2018-02-14 19:46:34           2018-02-16 18:17:02   \n",
              "\n",
              "  order_estimated_delivery_date  \n",
              "0           2017-10-18 00:00:00  \n",
              "1           2018-08-13 00:00:00  \n",
              "2           2018-09-04 00:00:00  \n",
              "3           2017-12-15 00:00:00  \n",
              "4           2018-02-26 00:00:00  "
            ],
            "text/html": [
              "\n",
              "  <div id=\"df-64df2032-caf0-48b8-b126-dd1d1e104a95\">\n",
              "    <div class=\"colab-df-container\">\n",
              "      <div>\n",
              "<style scoped>\n",
              "    .dataframe tbody tr th:only-of-type {\n",
              "        vertical-align: middle;\n",
              "    }\n",
              "\n",
              "    .dataframe tbody tr th {\n",
              "        vertical-align: top;\n",
              "    }\n",
              "\n",
              "    .dataframe thead th {\n",
              "        text-align: right;\n",
              "    }\n",
              "</style>\n",
              "<table border=\"1\" class=\"dataframe\">\n",
              "  <thead>\n",
              "    <tr style=\"text-align: right;\">\n",
              "      <th></th>\n",
              "      <th>order_id</th>\n",
              "      <th>customer_id</th>\n",
              "      <th>order_status</th>\n",
              "      <th>order_purchase_timestamp</th>\n",
              "      <th>order_approved_at</th>\n",
              "      <th>order_delivered_carrier_date</th>\n",
              "      <th>order_delivered_customer_date</th>\n",
              "      <th>order_estimated_delivery_date</th>\n",
              "    </tr>\n",
              "  </thead>\n",
              "  <tbody>\n",
              "    <tr>\n",
              "      <th>0</th>\n",
              "      <td>e481f51cbdc54678b7cc49136f2d6af7</td>\n",
              "      <td>9ef432eb6251297304e76186b10a928d</td>\n",
              "      <td>delivered</td>\n",
              "      <td>2017-10-02 10:56:33</td>\n",
              "      <td>2017-10-02 11:07:15</td>\n",
              "      <td>2017-10-04 19:55:00</td>\n",
              "      <td>2017-10-10 21:25:13</td>\n",
              "      <td>2017-10-18 00:00:00</td>\n",
              "    </tr>\n",
              "    <tr>\n",
              "      <th>1</th>\n",
              "      <td>53cdb2fc8bc7dce0b6741e2150273451</td>\n",
              "      <td>b0830fb4747a6c6d20dea0b8c802d7ef</td>\n",
              "      <td>delivered</td>\n",
              "      <td>2018-07-24 20:41:37</td>\n",
              "      <td>2018-07-26 03:24:27</td>\n",
              "      <td>2018-07-26 14:31:00</td>\n",
              "      <td>2018-08-07 15:27:45</td>\n",
              "      <td>2018-08-13 00:00:00</td>\n",
              "    </tr>\n",
              "    <tr>\n",
              "      <th>2</th>\n",
              "      <td>47770eb9100c2d0c44946d9cf07ec65d</td>\n",
              "      <td>41ce2a54c0b03bf3443c3d931a367089</td>\n",
              "      <td>delivered</td>\n",
              "      <td>2018-08-08 08:38:49</td>\n",
              "      <td>2018-08-08 08:55:23</td>\n",
              "      <td>2018-08-08 13:50:00</td>\n",
              "      <td>2018-08-17 18:06:29</td>\n",
              "      <td>2018-09-04 00:00:00</td>\n",
              "    </tr>\n",
              "    <tr>\n",
              "      <th>3</th>\n",
              "      <td>949d5b44dbf5de918fe9c16f97b45f8a</td>\n",
              "      <td>f88197465ea7920adcdbec7375364d82</td>\n",
              "      <td>delivered</td>\n",
              "      <td>2017-11-18 19:28:06</td>\n",
              "      <td>2017-11-18 19:45:59</td>\n",
              "      <td>2017-11-22 13:39:59</td>\n",
              "      <td>2017-12-02 00:28:42</td>\n",
              "      <td>2017-12-15 00:00:00</td>\n",
              "    </tr>\n",
              "    <tr>\n",
              "      <th>4</th>\n",
              "      <td>ad21c59c0840e6cb83a9ceb5573f8159</td>\n",
              "      <td>8ab97904e6daea8866dbdbc4fb7aad2c</td>\n",
              "      <td>delivered</td>\n",
              "      <td>2018-02-13 21:18:39</td>\n",
              "      <td>2018-02-13 22:20:29</td>\n",
              "      <td>2018-02-14 19:46:34</td>\n",
              "      <td>2018-02-16 18:17:02</td>\n",
              "      <td>2018-02-26 00:00:00</td>\n",
              "    </tr>\n",
              "  </tbody>\n",
              "</table>\n",
              "</div>\n",
              "      <button class=\"colab-df-convert\" onclick=\"convertToInteractive('df-64df2032-caf0-48b8-b126-dd1d1e104a95')\"\n",
              "              title=\"Convert this dataframe to an interactive table.\"\n",
              "              style=\"display:none;\">\n",
              "        \n",
              "  <svg xmlns=\"http://www.w3.org/2000/svg\" height=\"24px\"viewBox=\"0 0 24 24\"\n",
              "       width=\"24px\">\n",
              "    <path d=\"M0 0h24v24H0V0z\" fill=\"none\"/>\n",
              "    <path d=\"M18.56 5.44l.94 2.06.94-2.06 2.06-.94-2.06-.94-.94-2.06-.94 2.06-2.06.94zm-11 1L8.5 8.5l.94-2.06 2.06-.94-2.06-.94L8.5 2.5l-.94 2.06-2.06.94zm10 10l.94 2.06.94-2.06 2.06-.94-2.06-.94-.94-2.06-.94 2.06-2.06.94z\"/><path d=\"M17.41 7.96l-1.37-1.37c-.4-.4-.92-.59-1.43-.59-.52 0-1.04.2-1.43.59L10.3 9.45l-7.72 7.72c-.78.78-.78 2.05 0 2.83L4 21.41c.39.39.9.59 1.41.59.51 0 1.02-.2 1.41-.59l7.78-7.78 2.81-2.81c.8-.78.8-2.07 0-2.86zM5.41 20L4 18.59l7.72-7.72 1.47 1.35L5.41 20z\"/>\n",
              "  </svg>\n",
              "      </button>\n",
              "      \n",
              "  <style>\n",
              "    .colab-df-container {\n",
              "      display:flex;\n",
              "      flex-wrap:wrap;\n",
              "      gap: 12px;\n",
              "    }\n",
              "\n",
              "    .colab-df-convert {\n",
              "      background-color: #E8F0FE;\n",
              "      border: none;\n",
              "      border-radius: 50%;\n",
              "      cursor: pointer;\n",
              "      display: none;\n",
              "      fill: #1967D2;\n",
              "      height: 32px;\n",
              "      padding: 0 0 0 0;\n",
              "      width: 32px;\n",
              "    }\n",
              "\n",
              "    .colab-df-convert:hover {\n",
              "      background-color: #E2EBFA;\n",
              "      box-shadow: 0px 1px 2px rgba(60, 64, 67, 0.3), 0px 1px 3px 1px rgba(60, 64, 67, 0.15);\n",
              "      fill: #174EA6;\n",
              "    }\n",
              "\n",
              "    [theme=dark] .colab-df-convert {\n",
              "      background-color: #3B4455;\n",
              "      fill: #D2E3FC;\n",
              "    }\n",
              "\n",
              "    [theme=dark] .colab-df-convert:hover {\n",
              "      background-color: #434B5C;\n",
              "      box-shadow: 0px 1px 3px 1px rgba(0, 0, 0, 0.15);\n",
              "      filter: drop-shadow(0px 1px 2px rgba(0, 0, 0, 0.3));\n",
              "      fill: #FFFFFF;\n",
              "    }\n",
              "  </style>\n",
              "\n",
              "      <script>\n",
              "        const buttonEl =\n",
              "          document.querySelector('#df-64df2032-caf0-48b8-b126-dd1d1e104a95 button.colab-df-convert');\n",
              "        buttonEl.style.display =\n",
              "          google.colab.kernel.accessAllowed ? 'block' : 'none';\n",
              "\n",
              "        async function convertToInteractive(key) {\n",
              "          const element = document.querySelector('#df-64df2032-caf0-48b8-b126-dd1d1e104a95');\n",
              "          const dataTable =\n",
              "            await google.colab.kernel.invokeFunction('convertToInteractive',\n",
              "                                                     [key], {});\n",
              "          if (!dataTable) return;\n",
              "\n",
              "          const docLinkHtml = 'Like what you see? Visit the ' +\n",
              "            '<a target=\"_blank\" href=https://colab.research.google.com/notebooks/data_table.ipynb>data table notebook</a>'\n",
              "            + ' to learn more about interactive tables.';\n",
              "          element.innerHTML = '';\n",
              "          dataTable['output_type'] = 'display_data';\n",
              "          await google.colab.output.renderOutput(dataTable, element);\n",
              "          const docLink = document.createElement('div');\n",
              "          docLink.innerHTML = docLinkHtml;\n",
              "          element.appendChild(docLink);\n",
              "        }\n",
              "      </script>\n",
              "    </div>\n",
              "  </div>\n",
              "  "
            ]
          },
          "metadata": {},
          "execution_count": 5
        }
      ]
    },
    {
      "cell_type": "markdown",
      "source": [
        "Tamanho do dataset"
      ],
      "metadata": {
        "id": "nHgY4TUTKx45"
      }
    },
    {
      "cell_type": "code",
      "source": [
        "# Tamanho do dataset original\n",
        "print('O dataset possui {} linhas'.format(df_olist_orders.shape[0]))\n",
        "print('O dataset possui {} colunas'.format(df_olist_orders.shape[1]))"
      ],
      "metadata": {
        "colab": {
          "base_uri": "https://localhost:8080/"
        },
        "id": "Cm4NwUk8Dorb",
        "outputId": "a6c860e6-7465-4f0f-ba32-78cc2273f23c"
      },
      "execution_count": 6,
      "outputs": [
        {
          "output_type": "stream",
          "name": "stdout",
          "text": [
            "O dataset possui 99441 linhas\n",
            "O dataset possui 8 colunas\n"
          ]
        }
      ]
    },
    {
      "cell_type": "markdown",
      "source": [
        "Informações gerais sobre o dataset"
      ],
      "metadata": {
        "id": "seMqooYRLPlG"
      }
    },
    {
      "cell_type": "code",
      "source": [
        "# Informações gerais sobre o dataset\n",
        "df_olist_orders.info()"
      ],
      "metadata": {
        "colab": {
          "base_uri": "https://localhost:8080/"
        },
        "id": "Ypr8Lzz1EOxn",
        "outputId": "3b81e8a7-c7f7-44e2-b258-d42dde9b9bff"
      },
      "execution_count": 7,
      "outputs": [
        {
          "output_type": "stream",
          "name": "stdout",
          "text": [
            "<class 'pandas.core.frame.DataFrame'>\n",
            "RangeIndex: 99441 entries, 0 to 99440\n",
            "Data columns (total 8 columns):\n",
            " #   Column                         Non-Null Count  Dtype \n",
            "---  ------                         --------------  ----- \n",
            " 0   order_id                       99441 non-null  object\n",
            " 1   customer_id                    99441 non-null  object\n",
            " 2   order_status                   99441 non-null  object\n",
            " 3   order_purchase_timestamp       99441 non-null  object\n",
            " 4   order_approved_at              99281 non-null  object\n",
            " 5   order_delivered_carrier_date   97658 non-null  object\n",
            " 6   order_delivered_customer_date  96476 non-null  object\n",
            " 7   order_estimated_delivery_date  99441 non-null  object\n",
            "dtypes: object(8)\n",
            "memory usage: 6.1+ MB\n"
          ]
        }
      ]
    },
    {
      "cell_type": "markdown",
      "source": [
        "Buscando valores nulos\n",
        "\n",
        "* As três variáveis que possuem valores faltantes estão relacionadas com data e hora de processos relacionados aos pedidos: order_delivered_customer_date, order_delivered_carrier_date e order_approved_at.\n",
        "\n",
        "* Uma hipótese para valores ausentes em order_approved_at é que os pedidos não foram concluídos por falta de pagamento.\n",
        "\n",
        "* Uma para hipótese valores ausentes em order_delivered_carrier_date e order_delivered_customer_date é que a transportadora pode não ter registrado essas informações ou os dados foram capturados antes que os dados fossem consolidados na base.\n",
        "\n"
      ],
      "metadata": {
        "id": "COz8iFcpLVS5"
      }
    },
    {
      "cell_type": "code",
      "source": [
        "# Buscando dados nulos no dataset\n",
        "df_olist_orders.isnull().sum().sort_values(ascending= False)"
      ],
      "metadata": {
        "colab": {
          "base_uri": "https://localhost:8080/"
        },
        "id": "zCYcaAQPEbQ1",
        "outputId": "482bed92-c899-47c0-a6ed-bfe7b23489d3"
      },
      "execution_count": 8,
      "outputs": [
        {
          "output_type": "execute_result",
          "data": {
            "text/plain": [
              "order_delivered_customer_date    2965\n",
              "order_delivered_carrier_date     1783\n",
              "order_approved_at                 160\n",
              "order_id                            0\n",
              "customer_id                         0\n",
              "order_status                        0\n",
              "order_purchase_timestamp            0\n",
              "order_estimated_delivery_date       0\n",
              "dtype: int64"
            ]
          },
          "metadata": {},
          "execution_count": 8
        }
      ]
    },
    {
      "cell_type": "markdown",
      "source": [
        "Vizualizando status dos pedidos que encontram-se com valores nulos na coluna order_approved_at\n",
        "\n",
        "* Como é possível observar no filtro, a maior parte dos status do pedido relacionado com a coluna order_approved_at é canceled, ou seja, o pedido pode foi cancelado pelo vendedor ou cliente. Geralmente, isso pode acontece por conta de problemas na efetuação do pagamento. Os outros status são entregue e created, apontando possíveis erro humano ou do sistema."
      ],
      "metadata": {
        "id": "VKGxsaqYj_fG"
      }
    },
    {
      "cell_type": "code",
      "source": [
        "df_olist_orders[df_olist_orders['order_approved_at'].isnull()]['order_status'].value_counts()"
      ],
      "metadata": {
        "colab": {
          "base_uri": "https://localhost:8080/"
        },
        "id": "HD2FHHBVFBtl",
        "outputId": "284efc86-2d0e-4901-b95e-12325c2f4850"
      },
      "execution_count": 9,
      "outputs": [
        {
          "output_type": "execute_result",
          "data": {
            "text/plain": [
              "canceled     141\n",
              "delivered     14\n",
              "created        5\n",
              "Name: order_status, dtype: int64"
            ]
          },
          "metadata": {},
          "execution_count": 9
        }
      ]
    },
    {
      "cell_type": "code",
      "source": [
        "sns.countplot(df_olist_orders[df_olist_orders['order_approved_at'].isnull()]['order_status'])\n",
        "plt.title('Contagem dos status relacionados a valores nulos na coluna order_approved_at')\n",
        "plt.xlabel('Status do pedido')\n",
        "plt.show()"
      ],
      "metadata": {
        "colab": {
          "base_uri": "https://localhost:8080/",
          "height": 299
        },
        "id": "I7hSRADmkgpe",
        "outputId": "2a7f70bd-b67e-40c8-9e01-1c07b143ea77"
      },
      "execution_count": 10,
      "outputs": [
        {
          "output_type": "display_data",
          "data": {
            "text/plain": [
              "<Figure size 432x288 with 1 Axes>"
            ],
            "image/png": "[encoded data removed]"
          },
          "metadata": {}
        }
      ]
    },
    {
      "cell_type": "markdown",
      "source": [
        "Vizualizando status dos pedidos que encontram-se com valores nulos na coluna order_delivered_carrier_date.\n",
        "\n",
        "* Os pedidos que contêm valores nulos na coluna order_delivered_carrier_date em sua maior parte estão com status de indisponível ou cancedado, apontando um possível cancelamento por parte do cliente/vendedor ou falta de envio de informações da transportadora ao vendedor. Além disso, status como processing e invoiced são anteriores ao lançamento do pedido, justificando a falta de data e hora na coluna order_delivered_carrier_date."
      ],
      "metadata": {
        "id": "1qBU56rQpSyb"
      }
    },
    {
      "cell_type": "code",
      "source": [
        "df_olist_orders[df_olist_orders['order_delivered_carrier_date'].isnull()]['order_status'].value_counts()"
      ],
      "metadata": {
        "colab": {
          "base_uri": "https://localhost:8080/"
        },
        "id": "WWdNlrKioSK2",
        "outputId": "ba21bca6-7eeb-4646-ca4a-a90b8acaedca"
      },
      "execution_count": 11,
      "outputs": [
        {
          "output_type": "execute_result",
          "data": {
            "text/plain": [
              "unavailable    609\n",
              "canceled       550\n",
              "invoiced       314\n",
              "processing     301\n",
              "created          5\n",
              "approved         2\n",
              "delivered        2\n",
              "Name: order_status, dtype: int64"
            ]
          },
          "metadata": {},
          "execution_count": 11
        }
      ]
    },
    {
      "cell_type": "code",
      "source": [
        "plt.figure(figsize=(15,5))\n",
        "sns.countplot(df_olist_orders[df_olist_orders['order_delivered_carrier_date'].isnull()]['order_status'], order= df_olist_orders[df_olist_orders['order_delivered_carrier_date'].isnull()]['order_status'].value_counts().index)\n",
        "plt.title('Contagem dos status relacionados a valores nulos na coluna order_delivered_carrier_date')\n",
        "plt.xlabel('Status do Pedido')\n",
        "plt.show()"
      ],
      "metadata": {
        "colab": {
          "base_uri": "https://localhost:8080/",
          "height": 354
        },
        "id": "rMgdUAqDshaJ",
        "outputId": "0220ab21-0854-453f-d607-f8125d70e551"
      },
      "execution_count": 12,
      "outputs": [
        {
          "output_type": "display_data",
          "data": {
            "text/plain": [
              "<Figure size 1080x360 with 1 Axes>"
            ],
            "image/png": "[encoded data removed]"
          },
          "metadata": {}
        }
      ]
    },
    {
      "cell_type": "markdown",
      "source": [
        "Vizualizando status dos pedidos que encontram-se com valores nulos na coluna order_delivered_customer_date.\n",
        "\n",
        "* A maioria dos pedidos que contêm valores nulos na coluna order_delivered_customer_date estão com status que remetem estágios anteriores a entrega do pedido ao cliente, justificando a falta da data e hora da entrega do pedido, ja que esses ainda tiveram a entrega consumada. "
      ],
      "metadata": {
        "id": "P2LL-6vBwz7x"
      }
    },
    {
      "cell_type": "code",
      "source": [
        "df_olist_orders[df_olist_orders['order_delivered_customer_date'].isnull()]['order_status'].value_counts()"
      ],
      "metadata": {
        "id": "UjVFO0M4s5QY",
        "colab": {
          "base_uri": "https://localhost:8080/"
        },
        "outputId": "cbc4bc51-9f05-4fe0-da1a-6634d238d13d"
      },
      "execution_count": 13,
      "outputs": [
        {
          "output_type": "execute_result",
          "data": {
            "text/plain": [
              "shipped        1107\n",
              "canceled        619\n",
              "unavailable     609\n",
              "invoiced        314\n",
              "processing      301\n",
              "delivered         8\n",
              "created           5\n",
              "approved          2\n",
              "Name: order_status, dtype: int64"
            ]
          },
          "metadata": {},
          "execution_count": 13
        }
      ]
    },
    {
      "cell_type": "code",
      "source": [
        "plt.figure(figsize=(15,5))\n",
        "sns.countplot(df_olist_orders[df_olist_orders['order_delivered_customer_date'].isnull()]['order_status'], order=df_olist_orders[df_olist_orders['order_delivered_customer_date'].isnull()]['order_status'].value_counts().index )\n",
        "plt.title('Contagem dos status relacionados a valores nulos na coluna order_delivered_customer_date')\n",
        "plt.xlabel('Status do Pedido')\n",
        "plt.show()"
      ],
      "metadata": {
        "colab": {
          "base_uri": "https://localhost:8080/",
          "height": 354
        },
        "id": "v5PXAQAuxXGc",
        "outputId": "705dd608-d2ff-41e8-f6b9-2cc6e89f4cb6"
      },
      "execution_count": 14,
      "outputs": [
        {
          "output_type": "display_data",
          "data": {
            "text/plain": [
              "<Figure size 1080x360 with 1 Axes>"
            ],
            "image/png": "[encoded data removed]"
          },
          "metadata": {}
        }
      ]
    },
    {
      "cell_type": "markdown",
      "source": [
        "Buscando valores duplicados\n",
        "\n",
        "* A base não possui valores duplicados"
      ],
      "metadata": {
        "id": "pPCXFFvB0Wwh"
      }
    },
    {
      "cell_type": "code",
      "source": [
        "df_olist_orders.duplicated().value_counts()"
      ],
      "metadata": {
        "colab": {
          "base_uri": "https://localhost:8080/"
        },
        "id": "mRGFHOHL0ZIT",
        "outputId": "c99f4dc7-5d83-4a53-9a53-28ff0b196eff"
      },
      "execution_count": 15,
      "outputs": [
        {
          "output_type": "execute_result",
          "data": {
            "text/plain": [
              "False    99441\n",
              "dtype: int64"
            ]
          },
          "metadata": {},
          "execution_count": 15
        }
      ]
    },
    {
      "cell_type": "markdown",
      "source": [
        "Contagem do atributo order_status"
      ],
      "metadata": {
        "id": "B3wevYv-1MdK"
      }
    },
    {
      "cell_type": "code",
      "source": [
        "df_olist_orders['order_status'].value_counts()"
      ],
      "metadata": {
        "colab": {
          "base_uri": "https://localhost:8080/"
        },
        "id": "pHU-CYIv0lH7",
        "outputId": "210a4d10-af57-42e4-af5b-100a9bb9c54a"
      },
      "execution_count": 16,
      "outputs": [
        {
          "output_type": "execute_result",
          "data": {
            "text/plain": [
              "delivered      96478\n",
              "shipped         1107\n",
              "canceled         625\n",
              "unavailable      609\n",
              "invoiced         314\n",
              "processing       301\n",
              "created            5\n",
              "approved           2\n",
              "Name: order_status, dtype: int64"
            ]
          },
          "metadata": {},
          "execution_count": 16
        }
      ]
    },
    {
      "cell_type": "code",
      "source": [
        "plt.figure(figsize=(15,5))\n",
        "sns.countplot(df_olist_orders['order_status'])\n",
        "plt.title('Contagem das classes  do atributo order_status')\n",
        "plt.xlabel('Status do Pedido')\n",
        "plt.show()"
      ],
      "metadata": {
        "colab": {
          "base_uri": "https://localhost:8080/",
          "height": 354
        },
        "id": "kCiIXZya1iBK",
        "outputId": "8bea644c-cb9a-4f65-8556-508a24ff89f7"
      },
      "execution_count": 17,
      "outputs": [
        {
          "output_type": "display_data",
          "data": {
            "text/plain": [
              "<Figure size 1080x360 with 1 Axes>"
            ],
            "image/png": "[encoded data removed]"
          },
          "metadata": {}
        }
      ]
    },
    {
      "cell_type": "markdown",
      "source": [
        "#### Análise Exploratória df_olist_customers\n",
        "\n"
      ],
      "metadata": {
        "id": "TXHLer-h3Oq4"
      }
    },
    {
      "cell_type": "markdown",
      "source": [
        "##### **df_olist_customers**: contêm informações sobre os clientes\n",
        "\n",
        "* customer_id: chave para conectar com o dataset      df_olist_orders\n",
        "* customer_unique_id: identificador único do cliente\n",
        "* customer_zip_code_prefix: primeiros cinco dígitos do CEP do cliente\n",
        "* customer_city: cidade do cliente\n",
        "* customer_state: estado do cliente"
      ],
      "metadata": {
        "id": "q9u9rHpn9_nu"
      }
    },
    {
      "cell_type": "markdown",
      "source": [
        "Primeiras informações sobre o dataset"
      ],
      "metadata": {
        "id": "xLAYKFOm-kql"
      }
    },
    {
      "cell_type": "code",
      "source": [
        "df_olist_customers.info()"
      ],
      "metadata": {
        "colab": {
          "base_uri": "https://localhost:8080/"
        },
        "id": "QsEnE4Yv2LlB",
        "outputId": "0a8069a5-3a48-4981-a7c0-ff97dd831cdf"
      },
      "execution_count": 18,
      "outputs": [
        {
          "output_type": "stream",
          "name": "stdout",
          "text": [
            "<class 'pandas.core.frame.DataFrame'>\n",
            "RangeIndex: 99441 entries, 0 to 99440\n",
            "Data columns (total 5 columns):\n",
            " #   Column                    Non-Null Count  Dtype \n",
            "---  ------                    --------------  ----- \n",
            " 0   customer_id               99441 non-null  object\n",
            " 1   customer_unique_id        99441 non-null  object\n",
            " 2   customer_zip_code_prefix  99441 non-null  int64 \n",
            " 3   customer_city             99441 non-null  object\n",
            " 4   customer_state            99441 non-null  object\n",
            "dtypes: int64(1), object(4)\n",
            "memory usage: 3.8+ MB\n"
          ]
        }
      ]
    },
    {
      "cell_type": "markdown",
      "source": [
        "Buscando valores nulos\n",
        "\n",
        "* A base não possui valores nulos"
      ],
      "metadata": {
        "id": "K0-MGBar-xeT"
      }
    },
    {
      "cell_type": "code",
      "source": [
        "df_olist_customers.isnull().sum().sort_values(ascending=True)"
      ],
      "metadata": {
        "colab": {
          "base_uri": "https://localhost:8080/"
        },
        "id": "2DdBCofw8HoE",
        "outputId": "c0a5134e-515e-4268-83f1-98dfd7df2afc"
      },
      "execution_count": 19,
      "outputs": [
        {
          "output_type": "execute_result",
          "data": {
            "text/plain": [
              "customer_id                 0\n",
              "customer_unique_id          0\n",
              "customer_zip_code_prefix    0\n",
              "customer_city               0\n",
              "customer_state              0\n",
              "dtype: int64"
            ]
          },
          "metadata": {},
          "execution_count": 19
        }
      ]
    },
    {
      "cell_type": "markdown",
      "source": [
        "Buscando valores duplicados \n",
        "\n",
        "* A base não possui valores duplicados"
      ],
      "metadata": {
        "id": "giSwTXha_TPT"
      }
    },
    {
      "cell_type": "code",
      "source": [
        "df_olist_customers.duplicated().value_counts()"
      ],
      "metadata": {
        "colab": {
          "base_uri": "https://localhost:8080/"
        },
        "id": "JLsJ5XMo-8Oy",
        "outputId": "dbe6cfb7-0900-4fdc-bd3a-7282da7d160f"
      },
      "execution_count": 20,
      "outputs": [
        {
          "output_type": "execute_result",
          "data": {
            "text/plain": [
              "False    99441\n",
              "dtype: int64"
            ]
          },
          "metadata": {},
          "execution_count": 20
        }
      ]
    },
    {
      "cell_type": "markdown",
      "source": [
        "Vizualizando a distribuição geografica dos clientes\n",
        "\n",
        "* Os estados com maior número de clietes são: SP, RJ e MG."
      ],
      "metadata": {
        "id": "4-YJOPBiC-Q3"
      }
    },
    {
      "cell_type": "code",
      "source": [
        "df_olist_customers['customer_state'].value_counts()"
      ],
      "metadata": {
        "colab": {
          "base_uri": "https://localhost:8080/"
        },
        "id": "3sYrp5VDDHww",
        "outputId": "dbd4fc9f-12e7-443e-8104-54a060532ce4"
      },
      "execution_count": 21,
      "outputs": [
        {
          "output_type": "execute_result",
          "data": {
            "text/plain": [
              "SP    41746\n",
              "RJ    12852\n",
              "MG    11635\n",
              "RS     5466\n",
              "PR     5045\n",
              "SC     3637\n",
              "BA     3380\n",
              "DF     2140\n",
              "ES     2033\n",
              "GO     2020\n",
              "PE     1652\n",
              "CE     1336\n",
              "PA      975\n",
              "MT      907\n",
              "MA      747\n",
              "MS      715\n",
              "PB      536\n",
              "PI      495\n",
              "RN      485\n",
              "AL      413\n",
              "SE      350\n",
              "TO      280\n",
              "RO      253\n",
              "AM      148\n",
              "AC       81\n",
              "AP       68\n",
              "RR       46\n",
              "Name: customer_state, dtype: int64"
            ]
          },
          "metadata": {},
          "execution_count": 21
        }
      ]
    },
    {
      "cell_type": "code",
      "source": [
        "plt.figure(figsize=(15,5))\n",
        "sns.countplot(df_olist_customers['customer_state'], order=df_olist_customers['customer_state'].value_counts().index)\n",
        "plt.title('Distribuição Geográfica dos clientes')\n",
        "plt.xlabel('Estado')\n",
        "plt.show()"
      ],
      "metadata": {
        "colab": {
          "base_uri": "https://localhost:8080/",
          "height": 354
        },
        "id": "hINxYaL7DVzv",
        "outputId": "96ecd50a-eaed-4a66-90d7-cccf7492de21"
      },
      "execution_count": 22,
      "outputs": [
        {
          "output_type": "display_data",
          "data": {
            "text/plain": [
              "<Figure size 1080x360 with 1 Axes>"
            ],
            "image/png": "[encoded data removed]"
          },
          "metadata": {}
        }
      ]
    },
    {
      "cell_type": "markdown",
      "source": [
        "Verificando quantos clientes fizeram mais de um pedido"
      ],
      "metadata": {
        "id": "jZqT_ZYs_mgP"
      }
    },
    {
      "cell_type": "code",
      "source": [
        "# Número de clientes que fizeram um único pedido\n",
        "df_olist_customers['customer_unique_id'].unique().shape[0]"
      ],
      "metadata": {
        "colab": {
          "base_uri": "https://localhost:8080/"
        },
        "id": "nuko-_Xv_alS",
        "outputId": "71f311e2-0fe9-41f2-bda8-270f2fadd164"
      },
      "execution_count": 23,
      "outputs": [
        {
          "output_type": "execute_result",
          "data": {
            "text/plain": [
              "96096"
            ]
          },
          "metadata": {},
          "execution_count": 23
        }
      ]
    },
    {
      "cell_type": "code",
      "source": [
        "# Número total de clientes que fizeram pedidos\n",
        "df_olist_customers['customer_unique_id'].shape[0]"
      ],
      "metadata": {
        "colab": {
          "base_uri": "https://localhost:8080/"
        },
        "id": "tUbsNBB_AdBo",
        "outputId": "9ac8a679-2979-4431-874f-054d719a1285"
      },
      "execution_count": 24,
      "outputs": [
        {
          "output_type": "execute_result",
          "data": {
            "text/plain": [
              "99441"
            ]
          },
          "metadata": {},
          "execution_count": 24
        }
      ]
    },
    {
      "cell_type": "code",
      "source": [
        "# Clientes que executaram mais de um pedido\n",
        "print('A quantidade de clientes que executaram mais de um pedido é: {}'.format(df_olist_customers['customer_unique_id'].shape[0] - df_olist_customers['customer_unique_id'].unique().shape[0]))"
      ],
      "metadata": {
        "colab": {
          "base_uri": "https://localhost:8080/"
        },
        "id": "MBv_F9TDApV_",
        "outputId": "de3411cc-6fc9-4b46-ef3e-b392ec0a4635"
      },
      "execution_count": 25,
      "outputs": [
        {
          "output_type": "stream",
          "name": "stdout",
          "text": [
            "A quantidade de clientes que executaram mais de um pedido é: 3345\n"
          ]
        }
      ]
    },
    {
      "cell_type": "markdown",
      "source": [
        "#### Análise Exploratória df_olist_items"
      ],
      "metadata": {
        "id": "ZVKZN5awKdtr"
      }
    },
    {
      "cell_type": "markdown",
      "source": [
        "**df_olist_items**: contêm informações sobre os itens\n",
        "\n",
        "* order_id: idenficador único do pedido\n",
        "* order_item_id: número de itens incluídos no mesmo pedido\n",
        "* product_id: identificador único do produto\n",
        "* seller_id: identificador único do vendedor\n",
        "* shipping_limit_date: data limite para o envio do pedido ao  parceiro logístico\n",
        "* price: preço do item\n",
        "* freight_value: valor do frete para o item. Caso haja mais de um item, o valor sera dividído pelo número de itens"
      ],
      "metadata": {
        "id": "4ZlMO5UvLLz8"
      }
    },
    {
      "cell_type": "markdown",
      "source": [
        "Primeiras linhas do dataset"
      ],
      "metadata": {
        "id": "kYMINU5mOPQR"
      }
    },
    {
      "cell_type": "code",
      "source": [
        "df_olist_items.head()"
      ],
      "metadata": {
        "colab": {
          "base_uri": "https://localhost:8080/",
          "height": 270
        },
        "id": "jchfGifUK7AM",
        "outputId": "5ad6680f-7540-4f67-9261-1d1aec49ac96"
      },
      "execution_count": 26,
      "outputs": [
        {
          "output_type": "execute_result",
          "data": {
            "text/plain": [
              "                           order_id  order_item_id  \\\n",
              "0  00010242fe8c5a6d1ba2dd792cb16214              1   \n",
              "1  00018f77f2f0320c557190d7a144bdd3              1   \n",
              "2  000229ec398224ef6ca0657da4fc703e              1   \n",
              "3  00024acbcdf0a6daa1e931b038114c75              1   \n",
              "4  00042b26cf59d7ce69dfabb4e55b4fd9              1   \n",
              "\n",
              "                         product_id                         seller_id  \\\n",
              "0  4244733e06e7ecb4970a6e2683c13e61  48436dade18ac8b2bce089ec2a041202   \n",
              "1  e5f2d52b802189ee658865ca93d83a8f  dd7ddc04e1b6c2c614352b383efe2d36   \n",
              "2  c777355d18b72b67abbeef9df44fd0fd  5b51032eddd242adc84c38acab88f23d   \n",
              "3  7634da152a4610f1595efa32f14722fc  9d7a1d34a5052409006425275ba1c2b4   \n",
              "4  ac6c3623068f30de03045865e4e10089  df560393f3a51e74553ab94004ba5c87   \n",
              "\n",
              "   shipping_limit_date   price  freight_value  \n",
              "0  2017-09-19 09:45:35   58.90          13.29  \n",
              "1  2017-05-03 11:05:13  239.90          19.93  \n",
              "2  2018-01-18 14:48:30  199.00          17.87  \n",
              "3  2018-08-15 10:10:18   12.99          12.79  \n",
              "4  2017-02-13 13:57:51  199.90          18.14  "
            ],
            "text/html": [
              "\n",
              "  <div id=\"df-7e157b32-b3e7-49bb-b6e0-384ada0d692e\">\n",
              "    <div class=\"colab-df-container\">\n",
              "      <div>\n",
              "<style scoped>\n",
              "    .dataframe tbody tr th:only-of-type {\n",
              "        vertical-align: middle;\n",
              "    }\n",
              "\n",
              "    .dataframe tbody tr th {\n",
              "        vertical-align: top;\n",
              "    }\n",
              "\n",
              "    .dataframe thead th {\n",
              "        text-align: right;\n",
              "    }\n",
              "</style>\n",
              "<table border=\"1\" class=\"dataframe\">\n",
              "  <thead>\n",
              "    <tr style=\"text-align: right;\">\n",
              "      <th></th>\n",
              "      <th>order_id</th>\n",
              "      <th>order_item_id</th>\n",
              "      <th>product_id</th>\n",
              "      <th>seller_id</th>\n",
              "      <th>shipping_limit_date</th>\n",
              "      <th>price</th>\n",
              "      <th>freight_value</th>\n",
              "    </tr>\n",
              "  </thead>\n",
              "  <tbody>\n",
              "    <tr>\n",
              "      <th>0</th>\n",
              "      <td>00010242fe8c5a6d1ba2dd792cb16214</td>\n",
              "      <td>1</td>\n",
              "      <td>4244733e06e7ecb4970a6e2683c13e61</td>\n",
              "      <td>48436dade18ac8b2bce089ec2a041202</td>\n",
              "      <td>2017-09-19 09:45:35</td>\n",
              "      <td>58.90</td>\n",
              "      <td>13.29</td>\n",
              "    </tr>\n",
              "    <tr>\n",
              "      <th>1</th>\n",
              "      <td>00018f77f2f0320c557190d7a144bdd3</td>\n",
              "      <td>1</td>\n",
              "      <td>e5f2d52b802189ee658865ca93d83a8f</td>\n",
              "      <td>dd7ddc04e1b6c2c614352b383efe2d36</td>\n",
              "      <td>2017-05-03 11:05:13</td>\n",
              "      <td>239.90</td>\n",
              "      <td>19.93</td>\n",
              "    </tr>\n",
              "    <tr>\n",
              "      <th>2</th>\n",
              "      <td>000229ec398224ef6ca0657da4fc703e</td>\n",
              "      <td>1</td>\n",
              "      <td>c777355d18b72b67abbeef9df44fd0fd</td>\n",
              "      <td>5b51032eddd242adc84c38acab88f23d</td>\n",
              "      <td>2018-01-18 14:48:30</td>\n",
              "      <td>199.00</td>\n",
              "      <td>17.87</td>\n",
              "    </tr>\n",
              "    <tr>\n",
              "      <th>3</th>\n",
              "      <td>00024acbcdf0a6daa1e931b038114c75</td>\n",
              "      <td>1</td>\n",
              "      <td>7634da152a4610f1595efa32f14722fc</td>\n",
              "      <td>9d7a1d34a5052409006425275ba1c2b4</td>\n",
              "      <td>2018-08-15 10:10:18</td>\n",
              "      <td>12.99</td>\n",
              "      <td>12.79</td>\n",
              "    </tr>\n",
              "    <tr>\n",
              "      <th>4</th>\n",
              "      <td>00042b26cf59d7ce69dfabb4e55b4fd9</td>\n",
              "      <td>1</td>\n",
              "      <td>ac6c3623068f30de03045865e4e10089</td>\n",
              "      <td>df560393f3a51e74553ab94004ba5c87</td>\n",
              "      <td>2017-02-13 13:57:51</td>\n",
              "      <td>199.90</td>\n",
              "      <td>18.14</td>\n",
              "    </tr>\n",
              "  </tbody>\n",
              "</table>\n",
              "</div>\n",
              "      <button class=\"colab-df-convert\" onclick=\"convertToInteractive('df-7e157b32-b3e7-49bb-b6e0-384ada0d692e')\"\n",
              "              title=\"Convert this dataframe to an interactive table.\"\n",
              "              style=\"display:none;\">\n",
              "        \n",
              "  <svg xmlns=\"http://www.w3.org/2000/svg\" height=\"24px\"viewBox=\"0 0 24 24\"\n",
              "       width=\"24px\">\n",
              "    <path d=\"M0 0h24v24H0V0z\" fill=\"none\"/>\n",
              "    <path d=\"M18.56 5.44l.94 2.06.94-2.06 2.06-.94-2.06-.94-.94-2.06-.94 2.06-2.06.94zm-11 1L8.5 8.5l.94-2.06 2.06-.94-2.06-.94L8.5 2.5l-.94 2.06-2.06.94zm10 10l.94 2.06.94-2.06 2.06-.94-2.06-.94-.94-2.06-.94 2.06-2.06.94z\"/><path d=\"M17.41 7.96l-1.37-1.37c-.4-.4-.92-.59-1.43-.59-.52 0-1.04.2-1.43.59L10.3 9.45l-7.72 7.72c-.78.78-.78 2.05 0 2.83L4 21.41c.39.39.9.59 1.41.59.51 0 1.02-.2 1.41-.59l7.78-7.78 2.81-2.81c.8-.78.8-2.07 0-2.86zM5.41 20L4 18.59l7.72-7.72 1.47 1.35L5.41 20z\"/>\n",
              "  </svg>\n",
              "      </button>\n",
              "      \n",
              "  <style>\n",
              "    .colab-df-container {\n",
              "      display:flex;\n",
              "      flex-wrap:wrap;\n",
              "      gap: 12px;\n",
              "    }\n",
              "\n",
              "    .colab-df-convert {\n",
              "      background-color: #E8F0FE;\n",
              "      border: none;\n",
              "      border-radius: 50%;\n",
              "      cursor: pointer;\n",
              "      display: none;\n",
              "      fill: #1967D2;\n",
              "      height: 32px;\n",
              "      padding: 0 0 0 0;\n",
              "      width: 32px;\n",
              "    }\n",
              "\n",
              "    .colab-df-convert:hover {\n",
              "      background-color: #E2EBFA;\n",
              "      box-shadow: 0px 1px 2px rgba(60, 64, 67, 0.3), 0px 1px 3px 1px rgba(60, 64, 67, 0.15);\n",
              "      fill: #174EA6;\n",
              "    }\n",
              "\n",
              "    [theme=dark] .colab-df-convert {\n",
              "      background-color: #3B4455;\n",
              "      fill: #D2E3FC;\n",
              "    }\n",
              "\n",
              "    [theme=dark] .colab-df-convert:hover {\n",
              "      background-color: #434B5C;\n",
              "      box-shadow: 0px 1px 3px 1px rgba(0, 0, 0, 0.15);\n",
              "      filter: drop-shadow(0px 1px 2px rgba(0, 0, 0, 0.3));\n",
              "      fill: #FFFFFF;\n",
              "    }\n",
              "  </style>\n",
              "\n",
              "      <script>\n",
              "        const buttonEl =\n",
              "          document.querySelector('#df-7e157b32-b3e7-49bb-b6e0-384ada0d692e button.colab-df-convert');\n",
              "        buttonEl.style.display =\n",
              "          google.colab.kernel.accessAllowed ? 'block' : 'none';\n",
              "\n",
              "        async function convertToInteractive(key) {\n",
              "          const element = document.querySelector('#df-7e157b32-b3e7-49bb-b6e0-384ada0d692e');\n",
              "          const dataTable =\n",
              "            await google.colab.kernel.invokeFunction('convertToInteractive',\n",
              "                                                     [key], {});\n",
              "          if (!dataTable) return;\n",
              "\n",
              "          const docLinkHtml = 'Like what you see? Visit the ' +\n",
              "            '<a target=\"_blank\" href=https://colab.research.google.com/notebooks/data_table.ipynb>data table notebook</a>'\n",
              "            + ' to learn more about interactive tables.';\n",
              "          element.innerHTML = '';\n",
              "          dataTable['output_type'] = 'display_data';\n",
              "          await google.colab.output.renderOutput(dataTable, element);\n",
              "          const docLink = document.createElement('div');\n",
              "          docLink.innerHTML = docLinkHtml;\n",
              "          element.appendChild(docLink);\n",
              "        }\n",
              "      </script>\n",
              "    </div>\n",
              "  </div>\n",
              "  "
            ]
          },
          "metadata": {},
          "execution_count": 26
        }
      ]
    },
    {
      "cell_type": "markdown",
      "source": [
        "Tamanho do dataset"
      ],
      "metadata": {
        "id": "lrRkweAIOnEX"
      }
    },
    {
      "cell_type": "code",
      "source": [
        "df_olist_items.shape"
      ],
      "metadata": {
        "colab": {
          "base_uri": "https://localhost:8080/"
        },
        "id": "k2LPuSyqOlca",
        "outputId": "836804e0-986c-4beb-92e1-53037b928b97"
      },
      "execution_count": 27,
      "outputs": [
        {
          "output_type": "execute_result",
          "data": {
            "text/plain": [
              "(112650, 7)"
            ]
          },
          "metadata": {},
          "execution_count": 27
        }
      ]
    },
    {
      "cell_type": "markdown",
      "source": [
        "Informações gerais sobre o dataset"
      ],
      "metadata": {
        "id": "JXJuXMI8PKAO"
      }
    },
    {
      "cell_type": "code",
      "source": [
        "df_olist_items.info()"
      ],
      "metadata": {
        "colab": {
          "base_uri": "https://localhost:8080/"
        },
        "id": "ylIoUTB_K4kr",
        "outputId": "b63619f1-5bbb-47fd-c292-160b060b8522"
      },
      "execution_count": 28,
      "outputs": [
        {
          "output_type": "stream",
          "name": "stdout",
          "text": [
            "<class 'pandas.core.frame.DataFrame'>\n",
            "RangeIndex: 112650 entries, 0 to 112649\n",
            "Data columns (total 7 columns):\n",
            " #   Column               Non-Null Count   Dtype  \n",
            "---  ------               --------------   -----  \n",
            " 0   order_id             112650 non-null  object \n",
            " 1   order_item_id        112650 non-null  int64  \n",
            " 2   product_id           112650 non-null  object \n",
            " 3   seller_id            112650 non-null  object \n",
            " 4   shipping_limit_date  112650 non-null  object \n",
            " 5   price                112650 non-null  float64\n",
            " 6   freight_value        112650 non-null  float64\n",
            "dtypes: float64(2), int64(1), object(4)\n",
            "memory usage: 6.0+ MB\n"
          ]
        }
      ]
    },
    {
      "cell_type": "markdown",
      "source": [
        "Buscando valores nulos\n",
        "\n",
        "* O dataset não possui valores nulos"
      ],
      "metadata": {
        "id": "ihhZF3c7PlWe"
      }
    },
    {
      "cell_type": "code",
      "source": [
        "df_olist_items.isnull().sum().sort_values(ascending=False)"
      ],
      "metadata": {
        "colab": {
          "base_uri": "https://localhost:8080/"
        },
        "id": "oWqPTgP2PR8u",
        "outputId": "fe3a0255-cd3f-475a-d0d0-3556431248d7"
      },
      "execution_count": 29,
      "outputs": [
        {
          "output_type": "execute_result",
          "data": {
            "text/plain": [
              "order_id               0\n",
              "order_item_id          0\n",
              "product_id             0\n",
              "seller_id              0\n",
              "shipping_limit_date    0\n",
              "price                  0\n",
              "freight_value          0\n",
              "dtype: int64"
            ]
          },
          "metadata": {},
          "execution_count": 29
        }
      ]
    },
    {
      "cell_type": "markdown",
      "source": [
        "Buscando linhas duplicadas\n",
        "\n",
        "* O dataset não possui linhas duplicadas"
      ],
      "metadata": {
        "id": "S35RxngoQai6"
      }
    },
    {
      "cell_type": "code",
      "source": [
        "df_olist_items.duplicated().value_counts()"
      ],
      "metadata": {
        "colab": {
          "base_uri": "https://localhost:8080/"
        },
        "id": "IMv8cdvbQL49",
        "outputId": "9dcd6785-0242-482b-af13-9cc03b778538"
      },
      "execution_count": 30,
      "outputs": [
        {
          "output_type": "execute_result",
          "data": {
            "text/plain": [
              "False    112650\n",
              "dtype: int64"
            ]
          },
          "metadata": {},
          "execution_count": 30
        }
      ]
    },
    {
      "cell_type": "markdown",
      "source": [
        "Frequência do número de itens por pedido\n",
        "\n",
        "* A grande maioria dos pedidos são de 1 ou 2 itens"
      ],
      "metadata": {
        "id": "OYzoAn92Rj-l"
      }
    },
    {
      "cell_type": "code",
      "source": [
        "df_olist_items['order_item_id'].value_counts()"
      ],
      "metadata": {
        "colab": {
          "base_uri": "https://localhost:8080/"
        },
        "id": "a0-giYjhRA29",
        "outputId": "0805a27e-ea96-4812-c9cf-935c56f6b98a"
      },
      "execution_count": 31,
      "outputs": [
        {
          "output_type": "execute_result",
          "data": {
            "text/plain": [
              "1     98666\n",
              "2      9803\n",
              "3      2287\n",
              "4       965\n",
              "5       460\n",
              "6       256\n",
              "7        58\n",
              "8        36\n",
              "9        28\n",
              "10       25\n",
              "11       17\n",
              "12       13\n",
              "13        8\n",
              "14        7\n",
              "15        5\n",
              "16        3\n",
              "17        3\n",
              "18        3\n",
              "19        3\n",
              "20        3\n",
              "21        1\n",
              "Name: order_item_id, dtype: int64"
            ]
          },
          "metadata": {},
          "execution_count": 31
        }
      ]
    },
    {
      "cell_type": "code",
      "source": [
        "plt.figure(figsize=(15,5))\n",
        "sns.countplot(df_olist_items['order_item_id'])\n",
        "plt.title('Frequência de Itens Por Pedido')\n",
        "plt.xlabel('Número de Itens')\n",
        "plt.show()"
      ],
      "metadata": {
        "colab": {
          "base_uri": "https://localhost:8080/",
          "height": 354
        },
        "id": "-FykXDxASSjQ",
        "outputId": "7a79064f-345e-4e3e-deac-7517055e4e4b"
      },
      "execution_count": 32,
      "outputs": [
        {
          "output_type": "display_data",
          "data": {
            "text/plain": [
              "<Figure size 1080x360 with 1 Axes>"
            ],
            "image/png": "[encoded data removed]"
          },
          "metadata": {}
        }
      ]
    },
    {
      "cell_type": "markdown",
      "source": [
        "Estatísticas descritivas do do atributo price\n",
        "\n",
        "* O menor valor para um item foi de 85 centavos, enquanto o maior foi de 6.735 reais.\n",
        "\n",
        "* No entanto, a maior parte do preços está concentrada na faixa entre 39,90 e 134,90 reais. \n",
        "\n",
        "* O price possui vários outliers."
      ],
      "metadata": {
        "id": "pbgZJf1tUs2K"
      }
    },
    {
      "cell_type": "code",
      "source": [
        "df_olist_items['price'].describe()  "
      ],
      "metadata": {
        "colab": {
          "base_uri": "https://localhost:8080/"
        },
        "id": "q1MFZOzdTrUn",
        "outputId": "07907823-3734-4860-b713-049748110af2"
      },
      "execution_count": 33,
      "outputs": [
        {
          "output_type": "execute_result",
          "data": {
            "text/plain": [
              "count    112650.000000\n",
              "mean        120.653739\n",
              "std         183.633928\n",
              "min           0.850000\n",
              "25%          39.900000\n",
              "50%          74.990000\n",
              "75%         134.900000\n",
              "max        6735.000000\n",
              "Name: price, dtype: float64"
            ]
          },
          "metadata": {},
          "execution_count": 33
        }
      ]
    },
    {
      "cell_type": "code",
      "source": [
        "fig, axes = plt.subplots(ncols=2, nrows=1, figsize=(15,5))\n",
        "\n",
        "sns.histplot(data=df_olist_items['price'], ax=axes[0])\n",
        "axes[0].set_title('Histograma do price')\n",
        "\n",
        "sns.boxplot(y=df_olist_items['price'], ax=axes[1])\n",
        "axes[1].set_title('Boxplot do price')\n",
        "plt.show()"
      ],
      "metadata": {
        "id": "U_Q0fF6ZV3OW",
        "colab": {
          "base_uri": "https://localhost:8080/",
          "height": 354
        },
        "outputId": "a1521787-8fa2-4fff-cf62-bafcdc80465c"
      },
      "execution_count": 34,
      "outputs": [
        {
          "output_type": "display_data",
          "data": {
            "text/plain": [
              "<Figure size 1080x360 with 2 Axes>"
            ],
            "image/png": "[encoded data removed]"
          },
          "metadata": {}
        }
      ]
    },
    {
      "cell_type": "markdown",
      "source": [
        "Estatísticas descritivas para o atributo freight_value\n",
        "\n",
        "* O valor do frete por item vaira entre 0 (frete gratis) e 409, 68 reais.\n",
        "\n",
        "* A maioria das taxas de frete estão concentradas entre 13,08 e 21,15 reais.\n",
        "\n",
        "* Tambéms é possível observar que a variável possui outliers."
      ],
      "metadata": {
        "id": "tA1q0jLmVrJB"
      }
    },
    {
      "cell_type": "code",
      "source": [
        "df_olist_items['freight_value'].describe()"
      ],
      "metadata": {
        "colab": {
          "base_uri": "https://localhost:8080/"
        },
        "id": "t44L2Y7kU3Oo",
        "outputId": "52deefee-f859-412f-c825-7c1d468db2d3"
      },
      "execution_count": 35,
      "outputs": [
        {
          "output_type": "execute_result",
          "data": {
            "text/plain": [
              "count    112650.000000\n",
              "mean         19.990320\n",
              "std          15.806405\n",
              "min           0.000000\n",
              "25%          13.080000\n",
              "50%          16.260000\n",
              "75%          21.150000\n",
              "max         409.680000\n",
              "Name: freight_value, dtype: float64"
            ]
          },
          "metadata": {},
          "execution_count": 35
        }
      ]
    },
    {
      "cell_type": "code",
      "source": [
        "fig, axes = plt.subplots(ncols=2, nrows=1, figsize=(15,5))\n",
        "\n",
        "sns.histplot(data=df_olist_items['freight_value'], ax=axes[0])\n",
        "axes[0].set_title('Histograma do freight_value')\n",
        "\n",
        "sns.boxplot(y=df_olist_items['freight_value'], ax=axes[1])\n",
        "axes[1].set_title('Boxplot do freight_value')\n",
        "plt.show()"
      ],
      "metadata": {
        "colab": {
          "base_uri": "https://localhost:8080/",
          "height": 354
        },
        "id": "tt-szjt8Ksv2",
        "outputId": "610cdbb4-1e25-4714-ca01-8386bb729dcb"
      },
      "execution_count": 36,
      "outputs": [
        {
          "output_type": "display_data",
          "data": {
            "text/plain": [
              "<Figure size 1080x360 with 2 Axes>"
            ],
            "image/png": "[encoded data removed]"
          },
          "metadata": {}
        }
      ]
    },
    {
      "cell_type": "markdown",
      "source": [
        "### Processamento dos Dados\n",
        "\n",
        "* Nessa etapa, será aplicado junções de tabelas, filtros e criação de novas variáveis."
      ],
      "metadata": {
        "id": "jUUFFG7cSP1c"
      }
    },
    {
      "cell_type": "markdown",
      "source": [
        "#### Juntando Datasets"
      ],
      "metadata": {
        "id": "1vxnsZxrTU80"
      }
    },
    {
      "cell_type": "markdown",
      "source": [
        "Juntando df_olist_custmers a df_olist_orders"
      ],
      "metadata": {
        "id": "LnHN5-M8URtc"
      }
    },
    {
      "cell_type": "code",
      "source": [
        "df_customers_orders = df_olist_customers.merge(right=df_olist_orders, how='inner', on='customer_id')"
      ],
      "metadata": {
        "id": "6finqLv_STtH"
      },
      "execution_count": 37,
      "outputs": []
    },
    {
      "cell_type": "code",
      "source": [
        "df_customers_orders.head()"
      ],
      "metadata": {
        "colab": {
          "base_uri": "https://localhost:8080/",
          "height": 305
        },
        "id": "wwPoburIVPue",
        "outputId": "c9fe14d1-5bf0-4b0f-be0c-49ab4a43816f"
      },
      "execution_count": 38,
      "outputs": [
        {
          "output_type": "execute_result",
          "data": {
            "text/plain": [
              "                        customer_id                customer_unique_id  \\\n",
              "0  06b8999e2fba1a1fbc88172c00ba8bc7  861eff4711a542e4b93843c6dd7febb0   \n",
              "1  18955e83d337fd6b2def6b18a428ac77  290c77bc529b7ac935b93aa66c333dc3   \n",
              "2  4e7b3e00288586ebd08712fdd0374a03  060e732b5b29e8181a18229c7b0b2b5e   \n",
              "3  b2b6027bc5c5109e529d4dc6358b12c3  259dac757896d24d7702b9acbbff3f3c   \n",
              "4  4f2d8ab171c80ec8364f7c12e35b23ad  345ecd01c38d18a9036ed96c73b8d066   \n",
              "\n",
              "   customer_zip_code_prefix          customer_city customer_state  \\\n",
              "0                     14409                 franca             SP   \n",
              "1                      9790  sao bernardo do campo             SP   \n",
              "2                      1151              sao paulo             SP   \n",
              "3                      8775        mogi das cruzes             SP   \n",
              "4                     13056               campinas             SP   \n",
              "\n",
              "                           order_id order_status order_purchase_timestamp  \\\n",
              "0  00e7ee1b050b8499577073aeb2a297a1    delivered      2017-05-16 15:05:35   \n",
              "1  29150127e6685892b6eab3eec79f59c7    delivered      2018-01-12 20:48:24   \n",
              "2  b2059ed67ce144a36e2aa97d2c9e9ad2    delivered      2018-05-19 16:07:45   \n",
              "3  951670f92359f4fe4a63112aa7306eba    delivered      2018-03-13 16:06:38   \n",
              "4  6b7d50bd145f6fc7f33cebabd7e49d0f    delivered      2018-07-29 09:51:30   \n",
              "\n",
              "     order_approved_at order_delivered_carrier_date  \\\n",
              "0  2017-05-16 15:22:12          2017-05-23 10:47:57   \n",
              "1  2018-01-12 20:58:32          2018-01-15 17:14:59   \n",
              "2  2018-05-20 16:19:10          2018-06-11 14:31:00   \n",
              "3  2018-03-13 17:29:19          2018-03-27 23:22:42   \n",
              "4  2018-07-29 10:10:09          2018-07-30 15:16:00   \n",
              "\n",
              "  order_delivered_customer_date order_estimated_delivery_date  \n",
              "0           2017-05-25 10:35:35           2017-06-05 00:00:00  \n",
              "1           2018-01-29 12:41:19           2018-02-06 00:00:00  \n",
              "2           2018-06-14 17:58:51           2018-06-13 00:00:00  \n",
              "3           2018-03-28 16:04:25           2018-04-10 00:00:00  \n",
              "4           2018-08-09 20:55:48           2018-08-15 00:00:00  "
            ],
            "text/html": [
              "\n",
              "  <div id=\"df-713f89dc-4a7c-4639-8f5f-2af01f6a59a3\">\n",
              "    <div class=\"colab-df-container\">\n",
              "      <div>\n",
              "<style scoped>\n",
              "    .dataframe tbody tr th:only-of-type {\n",
              "        vertical-align: middle;\n",
              "    }\n",
              "\n",
              "    .dataframe tbody tr th {\n",
              "        vertical-align: top;\n",
              "    }\n",
              "\n",
              "    .dataframe thead th {\n",
              "        text-align: right;\n",
              "    }\n",
              "</style>\n",
              "<table border=\"1\" class=\"dataframe\">\n",
              "  <thead>\n",
              "    <tr style=\"text-align: right;\">\n",
              "      <th></th>\n",
              "      <th>customer_id</th>\n",
              "      <th>customer_unique_id</th>\n",
              "      <th>customer_zip_code_prefix</th>\n",
              "      <th>customer_city</th>\n",
              "      <th>customer_state</th>\n",
              "      <th>order_id</th>\n",
              "      <th>order_status</th>\n",
              "      <th>order_purchase_timestamp</th>\n",
              "      <th>order_approved_at</th>\n",
              "      <th>order_delivered_carrier_date</th>\n",
              "      <th>order_delivered_customer_date</th>\n",
              "      <th>order_estimated_delivery_date</th>\n",
              "    </tr>\n",
              "  </thead>\n",
              "  <tbody>\n",
              "    <tr>\n",
              "      <th>0</th>\n",
              "      <td>06b8999e2fba1a1fbc88172c00ba8bc7</td>\n",
              "      <td>861eff4711a542e4b93843c6dd7febb0</td>\n",
              "      <td>14409</td>\n",
              "      <td>franca</td>\n",
              "      <td>SP</td>\n",
              "      <td>00e7ee1b050b8499577073aeb2a297a1</td>\n",
              "      <td>delivered</td>\n",
              "      <td>2017-05-16 15:05:35</td>\n",
              "      <td>2017-05-16 15:22:12</td>\n",
              "      <td>2017-05-23 10:47:57</td>\n",
              "      <td>2017-05-25 10:35:35</td>\n",
              "      <td>2017-06-05 00:00:00</td>\n",
              "    </tr>\n",
              "    <tr>\n",
              "      <th>1</th>\n",
              "      <td>18955e83d337fd6b2def6b18a428ac77</td>\n",
              "      <td>290c77bc529b7ac935b93aa66c333dc3</td>\n",
              "      <td>9790</td>\n",
              "      <td>sao bernardo do campo</td>\n",
              "      <td>SP</td>\n",
              "      <td>29150127e6685892b6eab3eec79f59c7</td>\n",
              "      <td>delivered</td>\n",
              "      <td>2018-01-12 20:48:24</td>\n",
              "      <td>2018-01-12 20:58:32</td>\n",
              "      <td>2018-01-15 17:14:59</td>\n",
              "      <td>2018-01-29 12:41:19</td>\n",
              "      <td>2018-02-06 00:00:00</td>\n",
              "    </tr>\n",
              "    <tr>\n",
              "      <th>2</th>\n",
              "      <td>4e7b3e00288586ebd08712fdd0374a03</td>\n",
              "      <td>060e732b5b29e8181a18229c7b0b2b5e</td>\n",
              "      <td>1151</td>\n",
              "      <td>sao paulo</td>\n",
              "      <td>SP</td>\n",
              "      <td>b2059ed67ce144a36e2aa97d2c9e9ad2</td>\n",
              "      <td>delivered</td>\n",
              "      <td>2018-05-19 16:07:45</td>\n",
              "      <td>2018-05-20 16:19:10</td>\n",
              "      <td>2018-06-11 14:31:00</td>\n",
              "      <td>2018-06-14 17:58:51</td>\n",
              "      <td>2018-06-13 00:00:00</td>\n",
              "    </tr>\n",
              "    <tr>\n",
              "      <th>3</th>\n",
              "      <td>b2b6027bc5c5109e529d4dc6358b12c3</td>\n",
              "      <td>259dac757896d24d7702b9acbbff3f3c</td>\n",
              "      <td>8775</td>\n",
              "      <td>mogi das cruzes</td>\n",
              "      <td>SP</td>\n",
              "      <td>951670f92359f4fe4a63112aa7306eba</td>\n",
              "      <td>delivered</td>\n",
              "      <td>2018-03-13 16:06:38</td>\n",
              "      <td>2018-03-13 17:29:19</td>\n",
              "      <td>2018-03-27 23:22:42</td>\n",
              "      <td>2018-03-28 16:04:25</td>\n",
              "      <td>2018-04-10 00:00:00</td>\n",
              "    </tr>\n",
              "    <tr>\n",
              "      <th>4</th>\n",
              "      <td>4f2d8ab171c80ec8364f7c12e35b23ad</td>\n",
              "      <td>345ecd01c38d18a9036ed96c73b8d066</td>\n",
              "      <td>13056</td>\n",
              "      <td>campinas</td>\n",
              "      <td>SP</td>\n",
              "      <td>6b7d50bd145f6fc7f33cebabd7e49d0f</td>\n",
              "      <td>delivered</td>\n",
              "      <td>2018-07-29 09:51:30</td>\n",
              "      <td>2018-07-29 10:10:09</td>\n",
              "      <td>2018-07-30 15:16:00</td>\n",
              "      <td>2018-08-09 20:55:48</td>\n",
              "      <td>2018-08-15 00:00:00</td>\n",
              "    </tr>\n",
              "  </tbody>\n",
              "</table>\n",
              "</div>\n",
              "      <button class=\"colab-df-convert\" onclick=\"convertToInteractive('df-713f89dc-4a7c-4639-8f5f-2af01f6a59a3')\"\n",
              "              title=\"Convert this dataframe to an interactive table.\"\n",
              "              style=\"display:none;\">\n",
              "        \n",
              "  <svg xmlns=\"http://www.w3.org/2000/svg\" height=\"24px\"viewBox=\"0 0 24 24\"\n",
              "       width=\"24px\">\n",
              "    <path d=\"M0 0h24v24H0V0z\" fill=\"none\"/>\n",
              "    <path d=\"M18.56 5.44l.94 2.06.94-2.06 2.06-.94-2.06-.94-.94-2.06-.94 2.06-2.06.94zm-11 1L8.5 8.5l.94-2.06 2.06-.94-2.06-.94L8.5 2.5l-.94 2.06-2.06.94zm10 10l.94 2.06.94-2.06 2.06-.94-2.06-.94-.94-2.06-.94 2.06-2.06.94z\"/><path d=\"M17.41 7.96l-1.37-1.37c-.4-.4-.92-.59-1.43-.59-.52 0-1.04.2-1.43.59L10.3 9.45l-7.72 7.72c-.78.78-.78 2.05 0 2.83L4 21.41c.39.39.9.59 1.41.59.51 0 1.02-.2 1.41-.59l7.78-7.78 2.81-2.81c.8-.78.8-2.07 0-2.86zM5.41 20L4 18.59l7.72-7.72 1.47 1.35L5.41 20z\"/>\n",
              "  </svg>\n",
              "      </button>\n",
              "      \n",
              "  <style>\n",
              "    .colab-df-container {\n",
              "      display:flex;\n",
              "      flex-wrap:wrap;\n",
              "      gap: 12px;\n",
              "    }\n",
              "\n",
              "    .colab-df-convert {\n",
              "      background-color: #E8F0FE;\n",
              "      border: none;\n",
              "      border-radius: 50%;\n",
              "      cursor: pointer;\n",
              "      display: none;\n",
              "      fill: #1967D2;\n",
              "      height: 32px;\n",
              "      padding: 0 0 0 0;\n",
              "      width: 32px;\n",
              "    }\n",
              "\n",
              "    .colab-df-convert:hover {\n",
              "      background-color: #E2EBFA;\n",
              "      box-shadow: 0px 1px 2px rgba(60, 64, 67, 0.3), 0px 1px 3px 1px rgba(60, 64, 67, 0.15);\n",
              "      fill: #174EA6;\n",
              "    }\n",
              "\n",
              "    [theme=dark] .colab-df-convert {\n",
              "      background-color: #3B4455;\n",
              "      fill: #D2E3FC;\n",
              "    }\n",
              "\n",
              "    [theme=dark] .colab-df-convert:hover {\n",
              "      background-color: #434B5C;\n",
              "      box-shadow: 0px 1px 3px 1px rgba(0, 0, 0, 0.15);\n",
              "      filter: drop-shadow(0px 1px 2px rgba(0, 0, 0, 0.3));\n",
              "      fill: #FFFFFF;\n",
              "    }\n",
              "  </style>\n",
              "\n",
              "      <script>\n",
              "        const buttonEl =\n",
              "          document.querySelector('#df-713f89dc-4a7c-4639-8f5f-2af01f6a59a3 button.colab-df-convert');\n",
              "        buttonEl.style.display =\n",
              "          google.colab.kernel.accessAllowed ? 'block' : 'none';\n",
              "\n",
              "        async function convertToInteractive(key) {\n",
              "          const element = document.querySelector('#df-713f89dc-4a7c-4639-8f5f-2af01f6a59a3');\n",
              "          const dataTable =\n",
              "            await google.colab.kernel.invokeFunction('convertToInteractive',\n",
              "                                                     [key], {});\n",
              "          if (!dataTable) return;\n",
              "\n",
              "          const docLinkHtml = 'Like what you see? Visit the ' +\n",
              "            '<a target=\"_blank\" href=https://colab.research.google.com/notebooks/data_table.ipynb>data table notebook</a>'\n",
              "            + ' to learn more about interactive tables.';\n",
              "          element.innerHTML = '';\n",
              "          dataTable['output_type'] = 'display_data';\n",
              "          await google.colab.output.renderOutput(dataTable, element);\n",
              "          const docLink = document.createElement('div');\n",
              "          docLink.innerHTML = docLinkHtml;\n",
              "          element.appendChild(docLink);\n",
              "        }\n",
              "      </script>\n",
              "    </div>\n",
              "  </div>\n",
              "  "
            ]
          },
          "metadata": {},
          "execution_count": 38
        }
      ]
    },
    {
      "cell_type": "markdown",
      "source": [
        "Juntando df_customers_orders a df_olist_items"
      ],
      "metadata": {
        "id": "QKWHu6d-WgAB"
      }
    },
    {
      "cell_type": "code",
      "source": [
        "df_customers_orders_items = df_customers_orders.merge(right=df_olist_items, how='inner', on='order_id')"
      ],
      "metadata": {
        "id": "pxwfv39XWHfS"
      },
      "execution_count": 39,
      "outputs": []
    },
    {
      "cell_type": "code",
      "source": [
        "df_customers_orders_items.shape"
      ],
      "metadata": {
        "colab": {
          "base_uri": "https://localhost:8080/"
        },
        "id": "NZNFVyJNXZ6B",
        "outputId": "6fb2f6ec-70e9-499a-f1d8-6861b11ce099"
      },
      "execution_count": 40,
      "outputs": [
        {
          "output_type": "execute_result",
          "data": {
            "text/plain": [
              "(112650, 18)"
            ]
          },
          "metadata": {},
          "execution_count": 40
        }
      ]
    },
    {
      "cell_type": "code",
      "source": [
        "df_customers_orders_items.columns"
      ],
      "metadata": {
        "colab": {
          "base_uri": "https://localhost:8080/"
        },
        "id": "MqsHPtsIYslF",
        "outputId": "437c369d-f8df-4792-81aa-a283602ac1e8"
      },
      "execution_count": 41,
      "outputs": [
        {
          "output_type": "execute_result",
          "data": {
            "text/plain": [
              "Index(['customer_id', 'customer_unique_id', 'customer_zip_code_prefix',\n",
              "       'customer_city', 'customer_state', 'order_id', 'order_status',\n",
              "       'order_purchase_timestamp', 'order_approved_at',\n",
              "       'order_delivered_carrier_date', 'order_delivered_customer_date',\n",
              "       'order_estimated_delivery_date', 'order_item_id', 'product_id',\n",
              "       'seller_id', 'shipping_limit_date', 'price', 'freight_value'],\n",
              "      dtype='object')"
            ]
          },
          "metadata": {},
          "execution_count": 41
        }
      ]
    },
    {
      "cell_type": "markdown",
      "source": [
        "#### Filtrando colunas e observações"
      ],
      "metadata": {
        "id": "FTDr8C2mYa4Q"
      }
    },
    {
      "cell_type": "markdown",
      "source": [
        "Filtrando colunas\n",
        "\n",
        "* Serão utilizadas as colunas customer_unique_id,\torder_id,\torder_status,\tprice e\tfreight_value"
      ],
      "metadata": {
        "id": "WurUIKLlZ0Py"
      }
    },
    {
      "cell_type": "code",
      "source": [
        "df_customers_orders_items = df_customers_orders_items[['customer_unique_id', 'order_id', 'order_status', 'price', 'freight_value']]"
      ],
      "metadata": {
        "id": "fGD-G6VxXcCI"
      },
      "execution_count": 42,
      "outputs": []
    },
    {
      "cell_type": "code",
      "source": [
        "df_customers_orders_items.head()"
      ],
      "metadata": {
        "colab": {
          "base_uri": "https://localhost:8080/",
          "height": 206
        },
        "id": "0GSIfemZZHO4",
        "outputId": "c03c0a7e-8afb-4fc2-e2a6-a7e4e425c7d1"
      },
      "execution_count": 43,
      "outputs": [
        {
          "output_type": "execute_result",
          "data": {
            "text/plain": [
              "                 customer_unique_id                          order_id  \\\n",
              "0  861eff4711a542e4b93843c6dd7febb0  00e7ee1b050b8499577073aeb2a297a1   \n",
              "1  290c77bc529b7ac935b93aa66c333dc3  29150127e6685892b6eab3eec79f59c7   \n",
              "2  060e732b5b29e8181a18229c7b0b2b5e  b2059ed67ce144a36e2aa97d2c9e9ad2   \n",
              "3  259dac757896d24d7702b9acbbff3f3c  951670f92359f4fe4a63112aa7306eba   \n",
              "4  345ecd01c38d18a9036ed96c73b8d066  6b7d50bd145f6fc7f33cebabd7e49d0f   \n",
              "\n",
              "  order_status   price  freight_value  \n",
              "0    delivered  124.99          21.88  \n",
              "1    delivered  289.00          46.48  \n",
              "2    delivered  139.94          17.79  \n",
              "3    delivered  149.94          23.36  \n",
              "4    delivered  230.00          22.25  "
            ],
            "text/html": [
              "\n",
              "  <div id=\"df-5f12d17b-0086-48fb-90f3-759faea7e504\">\n",
              "    <div class=\"colab-df-container\">\n",
              "      <div>\n",
              "<style scoped>\n",
              "    .dataframe tbody tr th:only-of-type {\n",
              "        vertical-align: middle;\n",
              "    }\n",
              "\n",
              "    .dataframe tbody tr th {\n",
              "        vertical-align: top;\n",
              "    }\n",
              "\n",
              "    .dataframe thead th {\n",
              "        text-align: right;\n",
              "    }\n",
              "</style>\n",
              "<table border=\"1\" class=\"dataframe\">\n",
              "  <thead>\n",
              "    <tr style=\"text-align: right;\">\n",
              "      <th></th>\n",
              "      <th>customer_unique_id</th>\n",
              "      <th>order_id</th>\n",
              "      <th>order_status</th>\n",
              "      <th>price</th>\n",
              "      <th>freight_value</th>\n",
              "    </tr>\n",
              "  </thead>\n",
              "  <tbody>\n",
              "    <tr>\n",
              "      <th>0</th>\n",
              "      <td>861eff4711a542e4b93843c6dd7febb0</td>\n",
              "      <td>00e7ee1b050b8499577073aeb2a297a1</td>\n",
              "      <td>delivered</td>\n",
              "      <td>124.99</td>\n",
              "      <td>21.88</td>\n",
              "    </tr>\n",
              "    <tr>\n",
              "      <th>1</th>\n",
              "      <td>290c77bc529b7ac935b93aa66c333dc3</td>\n",
              "      <td>29150127e6685892b6eab3eec79f59c7</td>\n",
              "      <td>delivered</td>\n",
              "      <td>289.00</td>\n",
              "      <td>46.48</td>\n",
              "    </tr>\n",
              "    <tr>\n",
              "      <th>2</th>\n",
              "      <td>060e732b5b29e8181a18229c7b0b2b5e</td>\n",
              "      <td>b2059ed67ce144a36e2aa97d2c9e9ad2</td>\n",
              "      <td>delivered</td>\n",
              "      <td>139.94</td>\n",
              "      <td>17.79</td>\n",
              "    </tr>\n",
              "    <tr>\n",
              "      <th>3</th>\n",
              "      <td>259dac757896d24d7702b9acbbff3f3c</td>\n",
              "      <td>951670f92359f4fe4a63112aa7306eba</td>\n",
              "      <td>delivered</td>\n",
              "      <td>149.94</td>\n",
              "      <td>23.36</td>\n",
              "    </tr>\n",
              "    <tr>\n",
              "      <th>4</th>\n",
              "      <td>345ecd01c38d18a9036ed96c73b8d066</td>\n",
              "      <td>6b7d50bd145f6fc7f33cebabd7e49d0f</td>\n",
              "      <td>delivered</td>\n",
              "      <td>230.00</td>\n",
              "      <td>22.25</td>\n",
              "    </tr>\n",
              "  </tbody>\n",
              "</table>\n",
              "</div>\n",
              "      <button class=\"colab-df-convert\" onclick=\"convertToInteractive('df-5f12d17b-0086-48fb-90f3-759faea7e504')\"\n",
              "              title=\"Convert this dataframe to an interactive table.\"\n",
              "              style=\"display:none;\">\n",
              "        \n",
              "  <svg xmlns=\"http://www.w3.org/2000/svg\" height=\"24px\"viewBox=\"0 0 24 24\"\n",
              "       width=\"24px\">\n",
              "    <path d=\"M0 0h24v24H0V0z\" fill=\"none\"/>\n",
              "    <path d=\"M18.56 5.44l.94 2.06.94-2.06 2.06-.94-2.06-.94-.94-2.06-.94 2.06-2.06.94zm-11 1L8.5 8.5l.94-2.06 2.06-.94-2.06-.94L8.5 2.5l-.94 2.06-2.06.94zm10 10l.94 2.06.94-2.06 2.06-.94-2.06-.94-.94-2.06-.94 2.06-2.06.94z\"/><path d=\"M17.41 7.96l-1.37-1.37c-.4-.4-.92-.59-1.43-.59-.52 0-1.04.2-1.43.59L10.3 9.45l-7.72 7.72c-.78.78-.78 2.05 0 2.83L4 21.41c.39.39.9.59 1.41.59.51 0 1.02-.2 1.41-.59l7.78-7.78 2.81-2.81c.8-.78.8-2.07 0-2.86zM5.41 20L4 18.59l7.72-7.72 1.47 1.35L5.41 20z\"/>\n",
              "  </svg>\n",
              "      </button>\n",
              "      \n",
              "  <style>\n",
              "    .colab-df-container {\n",
              "      display:flex;\n",
              "      flex-wrap:wrap;\n",
              "      gap: 12px;\n",
              "    }\n",
              "\n",
              "    .colab-df-convert {\n",
              "      background-color: #E8F0FE;\n",
              "      border: none;\n",
              "      border-radius: 50%;\n",
              "      cursor: pointer;\n",
              "      display: none;\n",
              "      fill: #1967D2;\n",
              "      height: 32px;\n",
              "      padding: 0 0 0 0;\n",
              "      width: 32px;\n",
              "    }\n",
              "\n",
              "    .colab-df-convert:hover {\n",
              "      background-color: #E2EBFA;\n",
              "      box-shadow: 0px 1px 2px rgba(60, 64, 67, 0.3), 0px 1px 3px 1px rgba(60, 64, 67, 0.15);\n",
              "      fill: #174EA6;\n",
              "    }\n",
              "\n",
              "    [theme=dark] .colab-df-convert {\n",
              "      background-color: #3B4455;\n",
              "      fill: #D2E3FC;\n",
              "    }\n",
              "\n",
              "    [theme=dark] .colab-df-convert:hover {\n",
              "      background-color: #434B5C;\n",
              "      box-shadow: 0px 1px 3px 1px rgba(0, 0, 0, 0.15);\n",
              "      filter: drop-shadow(0px 1px 2px rgba(0, 0, 0, 0.3));\n",
              "      fill: #FFFFFF;\n",
              "    }\n",
              "  </style>\n",
              "\n",
              "      <script>\n",
              "        const buttonEl =\n",
              "          document.querySelector('#df-5f12d17b-0086-48fb-90f3-759faea7e504 button.colab-df-convert');\n",
              "        buttonEl.style.display =\n",
              "          google.colab.kernel.accessAllowed ? 'block' : 'none';\n",
              "\n",
              "        async function convertToInteractive(key) {\n",
              "          const element = document.querySelector('#df-5f12d17b-0086-48fb-90f3-759faea7e504');\n",
              "          const dataTable =\n",
              "            await google.colab.kernel.invokeFunction('convertToInteractive',\n",
              "                                                     [key], {});\n",
              "          if (!dataTable) return;\n",
              "\n",
              "          const docLinkHtml = 'Like what you see? Visit the ' +\n",
              "            '<a target=\"_blank\" href=https://colab.research.google.com/notebooks/data_table.ipynb>data table notebook</a>'\n",
              "            + ' to learn more about interactive tables.';\n",
              "          element.innerHTML = '';\n",
              "          dataTable['output_type'] = 'display_data';\n",
              "          await google.colab.output.renderOutput(dataTable, element);\n",
              "          const docLink = document.createElement('div');\n",
              "          docLink.innerHTML = docLinkHtml;\n",
              "          element.appendChild(docLink);\n",
              "        }\n",
              "      </script>\n",
              "    </div>\n",
              "  </div>\n",
              "  "
            ]
          },
          "metadata": {},
          "execution_count": 43
        }
      ]
    },
    {
      "cell_type": "markdown",
      "source": [
        "Filtrando registros com base no status do pedido\n",
        "\n",
        "* Serão desconsiderados pedidos com status unavailable e canceled."
      ],
      "metadata": {
        "id": "ujQbPv5YbT7d"
      }
    },
    {
      "cell_type": "code",
      "source": [
        "df_customers_orders_items = df_customers_orders_items[(df_customers_orders_items['order_status'] != 'unavailable') & (df_customers_orders_items['order_status'] != 'canceled')]"
      ],
      "metadata": {
        "id": "8zyo5gdvZJZw"
      },
      "execution_count": 44,
      "outputs": []
    },
    {
      "cell_type": "markdown",
      "source": [
        "### Construindo novas variáveis"
      ],
      "metadata": {
        "id": "-TskjFa97vqV"
      }
    },
    {
      "cell_type": "markdown",
      "source": [
        "#### Valor total gasto por cliente"
      ],
      "metadata": {
        "id": "fXithgLo8JHL"
      }
    },
    {
      "cell_type": "markdown",
      "source": [
        "Agrupando por customer_unique_id"
      ],
      "metadata": {
        "id": "hY_2vOJHnZe9"
      }
    },
    {
      "cell_type": "code",
      "source": [
        "df_values_by_customers = df_customers_orders_items.groupby(by='customer_unique_id').sum()"
      ],
      "metadata": {
        "id": "HO5whW3AcZ5T"
      },
      "execution_count": 45,
      "outputs": []
    },
    {
      "cell_type": "markdown",
      "source": [
        "Criando coluna de valor total gasto por cliente\n",
        "\n",
        "* O gasto total por cliente é o price do pedido.\n",
        "\n",
        "* O Apesar do frete ser um custo para o cliente, não vamos considera-lo com um valor gasto na plataforma, já que isso não se converte em receita para o lojista."
      ],
      "metadata": {
        "id": "6BBI3LaCnlCU"
      }
    },
    {
      "cell_type": "code",
      "source": [
        "df_values_by_customers['total_value'] = df_values_by_customers['price']"
      ],
      "metadata": {
        "id": "ptuw2F9Z6SpX"
      },
      "execution_count": 46,
      "outputs": []
    },
    {
      "cell_type": "code",
      "source": [
        "df_values_by_customers.reset_index(level=0, inplace=True)"
      ],
      "metadata": {
        "id": "Ul2lT2Foanmf"
      },
      "execution_count": 47,
      "outputs": []
    },
    {
      "cell_type": "markdown",
      "source": [
        "#### Total de pedidos por cliente\n",
        "\n",
        "* Serão desconsiderados pedidos com status canceled, unavailable e created."
      ],
      "metadata": {
        "id": "pcj9yGchbOl9"
      }
    },
    {
      "cell_type": "markdown",
      "source": [
        "Filtrando order_status"
      ],
      "metadata": {
        "id": "Rv5MzB8NlYt-"
      }
    },
    {
      "cell_type": "code",
      "source": [
        "df_customers_orders = df_customers_orders[(df_customers_orders['order_status'] != 'canceled') & (df_customers_orders['order_status'] != 'unavailable') & (df_customers_orders['order_status'] != 'created')]"
      ],
      "metadata": {
        "id": "TrQLI5yGhACC"
      },
      "execution_count": 48,
      "outputs": []
    },
    {
      "cell_type": "markdown",
      "source": [
        "Agrupando por customer_unique_id"
      ],
      "metadata": {
        "id": "S-qnAKHnldft"
      }
    },
    {
      "cell_type": "code",
      "source": [
        "df_customers_orders = df_customers_orders.groupby('customer_unique_id').count()['order_id']"
      ],
      "metadata": {
        "id": "qnJbK78XjcXg"
      },
      "execution_count": 49,
      "outputs": []
    },
    {
      "cell_type": "markdown",
      "source": [
        "Criando novo Dataframe e ajustando o índice"
      ],
      "metadata": {
        "id": "LJJZX8JZljEU"
      }
    },
    {
      "cell_type": "code",
      "source": [
        "df_customers_orders = pd.DataFrame(df_customers_orders)\n",
        "df_customers_orders.reset_index(level=0, inplace=True)"
      ],
      "metadata": {
        "id": "vVhyAbq5jnuP"
      },
      "execution_count": 50,
      "outputs": []
    },
    {
      "cell_type": "code",
      "source": [
        "df_customers_orders.shape"
      ],
      "metadata": {
        "id": "D3BwvAVBk7Y_",
        "colab": {
          "base_uri": "https://localhost:8080/"
        },
        "outputId": "6eedf54f-6995-4ce8-ad31-e0f6c7f7a526"
      },
      "execution_count": 51,
      "outputs": [
        {
          "output_type": "execute_result",
          "data": {
            "text/plain": [
              "(94986, 2)"
            ]
          },
          "metadata": {},
          "execution_count": 51
        }
      ]
    },
    {
      "cell_type": "markdown",
      "source": [
        "Juntando tabelas com iformações de gasto por cliente e pedido por cliente"
      ],
      "metadata": {
        "id": "kUSBel5Rl6tV"
      }
    },
    {
      "cell_type": "code",
      "source": [
        "df_total_values_orders = df_values_by_customers.merge(right=df_customers_orders, how='inner', on='customer_unique_id')"
      ],
      "metadata": {
        "id": "8zvKScKmk782"
      },
      "execution_count": 52,
      "outputs": []
    },
    {
      "cell_type": "code",
      "source": [
        "df_total_values_orders.head()"
      ],
      "metadata": {
        "id": "19K68eaxmmHH",
        "colab": {
          "base_uri": "https://localhost:8080/",
          "height": 206
        },
        "outputId": "8e981f63-1f8a-4b7e-9ded-3f4181c4e9d3"
      },
      "execution_count": 53,
      "outputs": [
        {
          "output_type": "execute_result",
          "data": {
            "text/plain": [
              "                 customer_unique_id   price  freight_value  total_value  \\\n",
              "0  0000366f3b9a7992bf8c76cfdf3221e2  129.90          12.00       129.90   \n",
              "1  0000b849f77a49e4a4ce2b2a4ca5be3f   18.90           8.29        18.90   \n",
              "2  0000f46a3911fa3c0805444483337064   69.00          17.22        69.00   \n",
              "3  0000f6ccb0745a6a4b88665a16c9f078   25.99          17.63        25.99   \n",
              "4  0004aac84e0df4da2b147fca70cf8255  180.00          16.89       180.00   \n",
              "\n",
              "   order_id  \n",
              "0         1  \n",
              "1         1  \n",
              "2         1  \n",
              "3         1  \n",
              "4         1  "
            ],
            "text/html": [
              "\n",
              "  <div id=\"df-a44ca255-b18b-4c3a-b310-19a27c2d47f0\">\n",
              "    <div class=\"colab-df-container\">\n",
              "      <div>\n",
              "<style scoped>\n",
              "    .dataframe tbody tr th:only-of-type {\n",
              "        vertical-align: middle;\n",
              "    }\n",
              "\n",
              "    .dataframe tbody tr th {\n",
              "        vertical-align: top;\n",
              "    }\n",
              "\n",
              "    .dataframe thead th {\n",
              "        text-align: right;\n",
              "    }\n",
              "</style>\n",
              "<table border=\"1\" class=\"dataframe\">\n",
              "  <thead>\n",
              "    <tr style=\"text-align: right;\">\n",
              "      <th></th>\n",
              "      <th>customer_unique_id</th>\n",
              "      <th>price</th>\n",
              "      <th>freight_value</th>\n",
              "      <th>total_value</th>\n",
              "      <th>order_id</th>\n",
              "    </tr>\n",
              "  </thead>\n",
              "  <tbody>\n",
              "    <tr>\n",
              "      <th>0</th>\n",
              "      <td>0000366f3b9a7992bf8c76cfdf3221e2</td>\n",
              "      <td>129.90</td>\n",
              "      <td>12.00</td>\n",
              "      <td>129.90</td>\n",
              "      <td>1</td>\n",
              "    </tr>\n",
              "    <tr>\n",
              "      <th>1</th>\n",
              "      <td>0000b849f77a49e4a4ce2b2a4ca5be3f</td>\n",
              "      <td>18.90</td>\n",
              "      <td>8.29</td>\n",
              "      <td>18.90</td>\n",
              "      <td>1</td>\n",
              "    </tr>\n",
              "    <tr>\n",
              "      <th>2</th>\n",
              "      <td>0000f46a3911fa3c0805444483337064</td>\n",
              "      <td>69.00</td>\n",
              "      <td>17.22</td>\n",
              "      <td>69.00</td>\n",
              "      <td>1</td>\n",
              "    </tr>\n",
              "    <tr>\n",
              "      <th>3</th>\n",
              "      <td>0000f6ccb0745a6a4b88665a16c9f078</td>\n",
              "      <td>25.99</td>\n",
              "      <td>17.63</td>\n",
              "      <td>25.99</td>\n",
              "      <td>1</td>\n",
              "    </tr>\n",
              "    <tr>\n",
              "      <th>4</th>\n",
              "      <td>0004aac84e0df4da2b147fca70cf8255</td>\n",
              "      <td>180.00</td>\n",
              "      <td>16.89</td>\n",
              "      <td>180.00</td>\n",
              "      <td>1</td>\n",
              "    </tr>\n",
              "  </tbody>\n",
              "</table>\n",
              "</div>\n",
              "      <button class=\"colab-df-convert\" onclick=\"convertToInteractive('df-a44ca255-b18b-4c3a-b310-19a27c2d47f0')\"\n",
              "              title=\"Convert this dataframe to an interactive table.\"\n",
              "              style=\"display:none;\">\n",
              "        \n",
              "  <svg xmlns=\"http://www.w3.org/2000/svg\" height=\"24px\"viewBox=\"0 0 24 24\"\n",
              "       width=\"24px\">\n",
              "    <path d=\"M0 0h24v24H0V0z\" fill=\"none\"/>\n",
              "    <path d=\"M18.56 5.44l.94 2.06.94-2.06 2.06-.94-2.06-.94-.94-2.06-.94 2.06-2.06.94zm-11 1L8.5 8.5l.94-2.06 2.06-.94-2.06-.94L8.5 2.5l-.94 2.06-2.06.94zm10 10l.94 2.06.94-2.06 2.06-.94-2.06-.94-.94-2.06-.94 2.06-2.06.94z\"/><path d=\"M17.41 7.96l-1.37-1.37c-.4-.4-.92-.59-1.43-.59-.52 0-1.04.2-1.43.59L10.3 9.45l-7.72 7.72c-.78.78-.78 2.05 0 2.83L4 21.41c.39.39.9.59 1.41.59.51 0 1.02-.2 1.41-.59l7.78-7.78 2.81-2.81c.8-.78.8-2.07 0-2.86zM5.41 20L4 18.59l7.72-7.72 1.47 1.35L5.41 20z\"/>\n",
              "  </svg>\n",
              "      </button>\n",
              "      \n",
              "  <style>\n",
              "    .colab-df-container {\n",
              "      display:flex;\n",
              "      flex-wrap:wrap;\n",
              "      gap: 12px;\n",
              "    }\n",
              "\n",
              "    .colab-df-convert {\n",
              "      background-color: #E8F0FE;\n",
              "      border: none;\n",
              "      border-radius: 50%;\n",
              "      cursor: pointer;\n",
              "      display: none;\n",
              "      fill: #1967D2;\n",
              "      height: 32px;\n",
              "      padding: 0 0 0 0;\n",
              "      width: 32px;\n",
              "    }\n",
              "\n",
              "    .colab-df-convert:hover {\n",
              "      background-color: #E2EBFA;\n",
              "      box-shadow: 0px 1px 2px rgba(60, 64, 67, 0.3), 0px 1px 3px 1px rgba(60, 64, 67, 0.15);\n",
              "      fill: #174EA6;\n",
              "    }\n",
              "\n",
              "    [theme=dark] .colab-df-convert {\n",
              "      background-color: #3B4455;\n",
              "      fill: #D2E3FC;\n",
              "    }\n",
              "\n",
              "    [theme=dark] .colab-df-convert:hover {\n",
              "      background-color: #434B5C;\n",
              "      box-shadow: 0px 1px 3px 1px rgba(0, 0, 0, 0.15);\n",
              "      filter: drop-shadow(0px 1px 2px rgba(0, 0, 0, 0.3));\n",
              "      fill: #FFFFFF;\n",
              "    }\n",
              "  </style>\n",
              "\n",
              "      <script>\n",
              "        const buttonEl =\n",
              "          document.querySelector('#df-a44ca255-b18b-4c3a-b310-19a27c2d47f0 button.colab-df-convert');\n",
              "        buttonEl.style.display =\n",
              "          google.colab.kernel.accessAllowed ? 'block' : 'none';\n",
              "\n",
              "        async function convertToInteractive(key) {\n",
              "          const element = document.querySelector('#df-a44ca255-b18b-4c3a-b310-19a27c2d47f0');\n",
              "          const dataTable =\n",
              "            await google.colab.kernel.invokeFunction('convertToInteractive',\n",
              "                                                     [key], {});\n",
              "          if (!dataTable) return;\n",
              "\n",
              "          const docLinkHtml = 'Like what you see? Visit the ' +\n",
              "            '<a target=\"_blank\" href=https://colab.research.google.com/notebooks/data_table.ipynb>data table notebook</a>'\n",
              "            + ' to learn more about interactive tables.';\n",
              "          element.innerHTML = '';\n",
              "          dataTable['output_type'] = 'display_data';\n",
              "          await google.colab.output.renderOutput(dataTable, element);\n",
              "          const docLink = document.createElement('div');\n",
              "          docLink.innerHTML = docLinkHtml;\n",
              "          element.appendChild(docLink);\n",
              "        }\n",
              "      </script>\n",
              "    </div>\n",
              "  </div>\n",
              "  "
            ]
          },
          "metadata": {},
          "execution_count": 53
        }
      ]
    },
    {
      "cell_type": "markdown",
      "source": [
        "Excluindo e renomeando colunas de df_total_values_orders"
      ],
      "metadata": {
        "id": "wrxh29dooa2P"
      }
    },
    {
      "cell_type": "code",
      "source": [
        "df_customers_info = df_total_values_orders[['customer_unique_id', 'total_value', 'order_id']]"
      ],
      "metadata": {
        "id": "MtvYHsjimqnu"
      },
      "execution_count": 54,
      "outputs": []
    },
    {
      "cell_type": "code",
      "source": [
        "df_customers_info.rename(columns={'order_id':'total_orders'}, inplace=True)"
      ],
      "metadata": {
        "id": "BGASsaJKotYc"
      },
      "execution_count": 55,
      "outputs": []
    },
    {
      "cell_type": "code",
      "source": [
        "df_customers_info"
      ],
      "metadata": {
        "id": "H-535AYHo_ME",
        "colab": {
          "base_uri": "https://localhost:8080/",
          "height": 424
        },
        "outputId": "e73d5cc7-9d4c-4175-81b3-0b326b77aeab"
      },
      "execution_count": 56,
      "outputs": [
        {
          "output_type": "execute_result",
          "data": {
            "text/plain": [
              "                     customer_unique_id  total_value  total_orders\n",
              "0      0000366f3b9a7992bf8c76cfdf3221e2       129.90             1\n",
              "1      0000b849f77a49e4a4ce2b2a4ca5be3f        18.90             1\n",
              "2      0000f46a3911fa3c0805444483337064        69.00             1\n",
              "3      0000f6ccb0745a6a4b88665a16c9f078        25.99             1\n",
              "4      0004aac84e0df4da2b147fca70cf8255       180.00             1\n",
              "...                                 ...          ...           ...\n",
              "94978  fffcf5a5ff07b0908bd4e2dbc735a684      1570.00             1\n",
              "94979  fffea47cd6d3cc0a88bd621562a9d061        64.89             1\n",
              "94980  ffff371b4d645b6ecea244b27531430a        89.90             1\n",
              "94981  ffff5962728ec6157033ef9805bacc48       115.00             1\n",
              "94982  ffffd2657e2aad2907e67c3e9daecbeb        56.99             1\n",
              "\n",
              "[94983 rows x 3 columns]"
            ],
            "text/html": [
              "\n",
              "  <div id=\"df-2cafe003-f8c4-4544-82c8-8b06ec15ff36\">\n",
              "    <div class=\"colab-df-container\">\n",
              "      <div>\n",
              "<style scoped>\n",
              "    .dataframe tbody tr th:only-of-type {\n",
              "        vertical-align: middle;\n",
              "    }\n",
              "\n",
              "    .dataframe tbody tr th {\n",
              "        vertical-align: top;\n",
              "    }\n",
              "\n",
              "    .dataframe thead th {\n",
              "        text-align: right;\n",
              "    }\n",
              "</style>\n",
              "<table border=\"1\" class=\"dataframe\">\n",
              "  <thead>\n",
              "    <tr style=\"text-align: right;\">\n",
              "      <th></th>\n",
              "      <th>customer_unique_id</th>\n",
              "      <th>total_value</th>\n",
              "      <th>total_orders</th>\n",
              "    </tr>\n",
              "  </thead>\n",
              "  <tbody>\n",
              "    <tr>\n",
              "      <th>0</th>\n",
              "      <td>0000366f3b9a7992bf8c76cfdf3221e2</td>\n",
              "      <td>129.90</td>\n",
              "      <td>1</td>\n",
              "    </tr>\n",
              "    <tr>\n",
              "      <th>1</th>\n",
              "      <td>0000b849f77a49e4a4ce2b2a4ca5be3f</td>\n",
              "      <td>18.90</td>\n",
              "      <td>1</td>\n",
              "    </tr>\n",
              "    <tr>\n",
              "      <th>2</th>\n",
              "      <td>0000f46a3911fa3c0805444483337064</td>\n",
              "      <td>69.00</td>\n",
              "      <td>1</td>\n",
              "    </tr>\n",
              "    <tr>\n",
              "      <th>3</th>\n",
              "      <td>0000f6ccb0745a6a4b88665a16c9f078</td>\n",
              "      <td>25.99</td>\n",
              "      <td>1</td>\n",
              "    </tr>\n",
              "    <tr>\n",
              "      <th>4</th>\n",
              "      <td>0004aac84e0df4da2b147fca70cf8255</td>\n",
              "      <td>180.00</td>\n",
              "      <td>1</td>\n",
              "    </tr>\n",
              "    <tr>\n",
              "      <th>...</th>\n",
              "      <td>...</td>\n",
              "      <td>...</td>\n",
              "      <td>...</td>\n",
              "    </tr>\n",
              "    <tr>\n",
              "      <th>94978</th>\n",
              "      <td>fffcf5a5ff07b0908bd4e2dbc735a684</td>\n",
              "      <td>1570.00</td>\n",
              "      <td>1</td>\n",
              "    </tr>\n",
              "    <tr>\n",
              "      <th>94979</th>\n",
              "      <td>fffea47cd6d3cc0a88bd621562a9d061</td>\n",
              "      <td>64.89</td>\n",
              "      <td>1</td>\n",
              "    </tr>\n",
              "    <tr>\n",
              "      <th>94980</th>\n",
              "      <td>ffff371b4d645b6ecea244b27531430a</td>\n",
              "      <td>89.90</td>\n",
              "      <td>1</td>\n",
              "    </tr>\n",
              "    <tr>\n",
              "      <th>94981</th>\n",
              "      <td>ffff5962728ec6157033ef9805bacc48</td>\n",
              "      <td>115.00</td>\n",
              "      <td>1</td>\n",
              "    </tr>\n",
              "    <tr>\n",
              "      <th>94982</th>\n",
              "      <td>ffffd2657e2aad2907e67c3e9daecbeb</td>\n",
              "      <td>56.99</td>\n",
              "      <td>1</td>\n",
              "    </tr>\n",
              "  </tbody>\n",
              "</table>\n",
              "<p>94983 rows × 3 columns</p>\n",
              "</div>\n",
              "      <button class=\"colab-df-convert\" onclick=\"convertToInteractive('df-2cafe003-f8c4-4544-82c8-8b06ec15ff36')\"\n",
              "              title=\"Convert this dataframe to an interactive table.\"\n",
              "              style=\"display:none;\">\n",
              "        \n",
              "  <svg xmlns=\"http://www.w3.org/2000/svg\" height=\"24px\"viewBox=\"0 0 24 24\"\n",
              "       width=\"24px\">\n",
              "    <path d=\"M0 0h24v24H0V0z\" fill=\"none\"/>\n",
              "    <path d=\"M18.56 5.44l.94 2.06.94-2.06 2.06-.94-2.06-.94-.94-2.06-.94 2.06-2.06.94zm-11 1L8.5 8.5l.94-2.06 2.06-.94-2.06-.94L8.5 2.5l-.94 2.06-2.06.94zm10 10l.94 2.06.94-2.06 2.06-.94-2.06-.94-.94-2.06-.94 2.06-2.06.94z\"/><path d=\"M17.41 7.96l-1.37-1.37c-.4-.4-.92-.59-1.43-.59-.52 0-1.04.2-1.43.59L10.3 9.45l-7.72 7.72c-.78.78-.78 2.05 0 2.83L4 21.41c.39.39.9.59 1.41.59.51 0 1.02-.2 1.41-.59l7.78-7.78 2.81-2.81c.8-.78.8-2.07 0-2.86zM5.41 20L4 18.59l7.72-7.72 1.47 1.35L5.41 20z\"/>\n",
              "  </svg>\n",
              "      </button>\n",
              "      \n",
              "  <style>\n",
              "    .colab-df-container {\n",
              "      display:flex;\n",
              "      flex-wrap:wrap;\n",
              "      gap: 12px;\n",
              "    }\n",
              "\n",
              "    .colab-df-convert {\n",
              "      background-color: #E8F0FE;\n",
              "      border: none;\n",
              "      border-radius: 50%;\n",
              "      cursor: pointer;\n",
              "      display: none;\n",
              "      fill: #1967D2;\n",
              "      height: 32px;\n",
              "      padding: 0 0 0 0;\n",
              "      width: 32px;\n",
              "    }\n",
              "\n",
              "    .colab-df-convert:hover {\n",
              "      background-color: #E2EBFA;\n",
              "      box-shadow: 0px 1px 2px rgba(60, 64, 67, 0.3), 0px 1px 3px 1px rgba(60, 64, 67, 0.15);\n",
              "      fill: #174EA6;\n",
              "    }\n",
              "\n",
              "    [theme=dark] .colab-df-convert {\n",
              "      background-color: #3B4455;\n",
              "      fill: #D2E3FC;\n",
              "    }\n",
              "\n",
              "    [theme=dark] .colab-df-convert:hover {\n",
              "      background-color: #434B5C;\n",
              "      box-shadow: 0px 1px 3px 1px rgba(0, 0, 0, 0.15);\n",
              "      filter: drop-shadow(0px 1px 2px rgba(0, 0, 0, 0.3));\n",
              "      fill: #FFFFFF;\n",
              "    }\n",
              "  </style>\n",
              "\n",
              "      <script>\n",
              "        const buttonEl =\n",
              "          document.querySelector('#df-2cafe003-f8c4-4544-82c8-8b06ec15ff36 button.colab-df-convert');\n",
              "        buttonEl.style.display =\n",
              "          google.colab.kernel.accessAllowed ? 'block' : 'none';\n",
              "\n",
              "        async function convertToInteractive(key) {\n",
              "          const element = document.querySelector('#df-2cafe003-f8c4-4544-82c8-8b06ec15ff36');\n",
              "          const dataTable =\n",
              "            await google.colab.kernel.invokeFunction('convertToInteractive',\n",
              "                                                     [key], {});\n",
              "          if (!dataTable) return;\n",
              "\n",
              "          const docLinkHtml = 'Like what you see? Visit the ' +\n",
              "            '<a target=\"_blank\" href=https://colab.research.google.com/notebooks/data_table.ipynb>data table notebook</a>'\n",
              "            + ' to learn more about interactive tables.';\n",
              "          element.innerHTML = '';\n",
              "          dataTable['output_type'] = 'display_data';\n",
              "          await google.colab.output.renderOutput(dataTable, element);\n",
              "          const docLink = document.createElement('div');\n",
              "          docLink.innerHTML = docLinkHtml;\n",
              "          element.appendChild(docLink);\n",
              "        }\n",
              "      </script>\n",
              "    </div>\n",
              "  </div>\n",
              "  "
            ]
          },
          "metadata": {},
          "execution_count": 56
        }
      ]
    },
    {
      "cell_type": "markdown",
      "source": [
        "### Modelando o Cluster"
      ],
      "metadata": {
        "id": "CzaONoJNc8dx"
      }
    },
    {
      "cell_type": "markdown",
      "source": [
        "Criando um Dataframe apenas com as variáveis utilizadas na modelagem"
      ],
      "metadata": {
        "id": "ziGBstf-dgyp"
      }
    },
    {
      "cell_type": "code",
      "source": [
        "features = df_customers_info[['total_value', 'total_orders']]"
      ],
      "metadata": {
        "id": "OQTNSCUOgtVA"
      },
      "execution_count": 57,
      "outputs": []
    },
    {
      "cell_type": "markdown",
      "source": [
        "Padronizando os dados"
      ],
      "metadata": {
        "id": "qV20PdFqfgVX"
      }
    },
    {
      "cell_type": "code",
      "source": [
        "standart_scaler = StandardScaler()\n",
        "features_scaled = standart_scaler.fit_transform(features)"
      ],
      "metadata": {
        "id": "8JB9qyyTfjAh"
      },
      "execution_count": 58,
      "outputs": []
    },
    {
      "cell_type": "markdown",
      "source": [
        "Buscando o número ótimo de clusters"
      ],
      "metadata": {
        "id": "PgHf7PnzhUiv"
      }
    },
    {
      "cell_type": "code",
      "source": [
        "wss = []\n",
        "range_values = range(1, 20)\n",
        "for i in range_values:\n",
        "  kmeans = KMeans(n_clusters=i)\n",
        "  kmeans.fit(features_scaled)\n",
        "  wss.append(kmeans.inertia_)"
      ],
      "metadata": {
        "id": "0eY4YYgEf3PW"
      },
      "execution_count": 59,
      "outputs": []
    },
    {
      "cell_type": "markdown",
      "source": [
        "Plotando inércias em função do núme de clusters\n",
        "\n",
        "* Segundo o Método Elbow Curve, o número ideal de cluster é aquele que combina o menor Within Sum of Squares e o menor número de clusters simultanemente.\n",
        "\n",
        "* Então, iremos utilizar 4 clusters"
      ],
      "metadata": {
        "id": "w9A-3qcxi62d"
      }
    },
    {
      "cell_type": "code",
      "source": [
        "plt.plot(wss, 'bx-')\n",
        "plt.xlabel('Clusters')\n",
        "plt.ylabel('WCSS')"
      ],
      "metadata": {
        "id": "aI-8oEXbjDXI",
        "colab": {
          "base_uri": "https://localhost:8080/",
          "height": 299
        },
        "outputId": "552d44d3-6d7d-4b26-9a85-b79c7ace0cea"
      },
      "execution_count": 60,
      "outputs": [
        {
          "output_type": "execute_result",
          "data": {
            "text/plain": [
              "Text(0, 0.5, 'WCSS')"
            ]
          },
          "metadata": {},
          "execution_count": 60
        },
        {
          "output_type": "display_data",
          "data": {
            "text/plain": [
              "<Figure size 432x288 with 1 Axes>"
            ],
            "image/png": "[encoded data removed]"
          },
          "metadata": {}
        }
      ]
    },
    {
      "cell_type": "markdown",
      "source": [
        "Criando o modelo"
      ],
      "metadata": {
        "id": "Nit8ypj2n8jA"
      }
    },
    {
      "cell_type": "code",
      "source": [
        "kmeans = KMeans(n_clusters=4)\n",
        "kmeans.fit(features_scaled)"
      ],
      "metadata": {
        "id": "MxRk7zt6nu3a",
        "colab": {
          "base_uri": "https://localhost:8080/"
        },
        "outputId": "bc31bbfd-e0a1-4624-93f3-fa57bc10cbd7"
      },
      "execution_count": 61,
      "outputs": [
        {
          "output_type": "execute_result",
          "data": {
            "text/plain": [
              "KMeans(n_clusters=4)"
            ]
          },
          "metadata": {},
          "execution_count": 61
        }
      ]
    },
    {
      "cell_type": "markdown",
      "source": [
        "Criando coluna para identificar o cluster de cada observação."
      ],
      "metadata": {
        "id": "DbtcK4tKllUz"
      }
    },
    {
      "cell_type": "code",
      "source": [
        "df_customers_info['cluster'] = kmeans.labels_\n",
        "df_customers_info.head()"
      ],
      "metadata": {
        "id": "PXnkpNDKlrQV",
        "colab": {
          "base_uri": "https://localhost:8080/",
          "height": 206
        },
        "outputId": "60ee09fa-6fa6-42d1-ad90-44ed592374ea"
      },
      "execution_count": 62,
      "outputs": [
        {
          "output_type": "execute_result",
          "data": {
            "text/plain": [
              "                 customer_unique_id  total_value  total_orders  cluster\n",
              "0  0000366f3b9a7992bf8c76cfdf3221e2       129.90             1        0\n",
              "1  0000b849f77a49e4a4ce2b2a4ca5be3f        18.90             1        0\n",
              "2  0000f46a3911fa3c0805444483337064        69.00             1        0\n",
              "3  0000f6ccb0745a6a4b88665a16c9f078        25.99             1        0\n",
              "4  0004aac84e0df4da2b147fca70cf8255       180.00             1        0"
            ],
            "text/html": [
              "\n",
              "  <div id=\"df-e2a7a1d7-1074-4bc1-ad51-ba7659aad7f5\">\n",
              "    <div class=\"colab-df-container\">\n",
              "      <div>\n",
              "<style scoped>\n",
              "    .dataframe tbody tr th:only-of-type {\n",
              "        vertical-align: middle;\n",
              "    }\n",
              "\n",
              "    .dataframe tbody tr th {\n",
              "        vertical-align: top;\n",
              "    }\n",
              "\n",
              "    .dataframe thead th {\n",
              "        text-align: right;\n",
              "    }\n",
              "</style>\n",
              "<table border=\"1\" class=\"dataframe\">\n",
              "  <thead>\n",
              "    <tr style=\"text-align: right;\">\n",
              "      <th></th>\n",
              "      <th>customer_unique_id</th>\n",
              "      <th>total_value</th>\n",
              "      <th>total_orders</th>\n",
              "      <th>cluster</th>\n",
              "    </tr>\n",
              "  </thead>\n",
              "  <tbody>\n",
              "    <tr>\n",
              "      <th>0</th>\n",
              "      <td>0000366f3b9a7992bf8c76cfdf3221e2</td>\n",
              "      <td>129.90</td>\n",
              "      <td>1</td>\n",
              "      <td>0</td>\n",
              "    </tr>\n",
              "    <tr>\n",
              "      <th>1</th>\n",
              "      <td>0000b849f77a49e4a4ce2b2a4ca5be3f</td>\n",
              "      <td>18.90</td>\n",
              "      <td>1</td>\n",
              "      <td>0</td>\n",
              "    </tr>\n",
              "    <tr>\n",
              "      <th>2</th>\n",
              "      <td>0000f46a3911fa3c0805444483337064</td>\n",
              "      <td>69.00</td>\n",
              "      <td>1</td>\n",
              "      <td>0</td>\n",
              "    </tr>\n",
              "    <tr>\n",
              "      <th>3</th>\n",
              "      <td>0000f6ccb0745a6a4b88665a16c9f078</td>\n",
              "      <td>25.99</td>\n",
              "      <td>1</td>\n",
              "      <td>0</td>\n",
              "    </tr>\n",
              "    <tr>\n",
              "      <th>4</th>\n",
              "      <td>0004aac84e0df4da2b147fca70cf8255</td>\n",
              "      <td>180.00</td>\n",
              "      <td>1</td>\n",
              "      <td>0</td>\n",
              "    </tr>\n",
              "  </tbody>\n",
              "</table>\n",
              "</div>\n",
              "      <button class=\"colab-df-convert\" onclick=\"convertToInteractive('df-e2a7a1d7-1074-4bc1-ad51-ba7659aad7f5')\"\n",
              "              title=\"Convert this dataframe to an interactive table.\"\n",
              "              style=\"display:none;\">\n",
              "        \n",
              "  <svg xmlns=\"http://www.w3.org/2000/svg\" height=\"24px\"viewBox=\"0 0 24 24\"\n",
              "       width=\"24px\">\n",
              "    <path d=\"M0 0h24v24H0V0z\" fill=\"none\"/>\n",
              "    <path d=\"M18.56 5.44l.94 2.06.94-2.06 2.06-.94-2.06-.94-.94-2.06-.94 2.06-2.06.94zm-11 1L8.5 8.5l.94-2.06 2.06-.94-2.06-.94L8.5 2.5l-.94 2.06-2.06.94zm10 10l.94 2.06.94-2.06 2.06-.94-2.06-.94-.94-2.06-.94 2.06-2.06.94z\"/><path d=\"M17.41 7.96l-1.37-1.37c-.4-.4-.92-.59-1.43-.59-.52 0-1.04.2-1.43.59L10.3 9.45l-7.72 7.72c-.78.78-.78 2.05 0 2.83L4 21.41c.39.39.9.59 1.41.59.51 0 1.02-.2 1.41-.59l7.78-7.78 2.81-2.81c.8-.78.8-2.07 0-2.86zM5.41 20L4 18.59l7.72-7.72 1.47 1.35L5.41 20z\"/>\n",
              "  </svg>\n",
              "      </button>\n",
              "      \n",
              "  <style>\n",
              "    .colab-df-container {\n",
              "      display:flex;\n",
              "      flex-wrap:wrap;\n",
              "      gap: 12px;\n",
              "    }\n",
              "\n",
              "    .colab-df-convert {\n",
              "      background-color: #E8F0FE;\n",
              "      border: none;\n",
              "      border-radius: 50%;\n",
              "      cursor: pointer;\n",
              "      display: none;\n",
              "      fill: #1967D2;\n",
              "      height: 32px;\n",
              "      padding: 0 0 0 0;\n",
              "      width: 32px;\n",
              "    }\n",
              "\n",
              "    .colab-df-convert:hover {\n",
              "      background-color: #E2EBFA;\n",
              "      box-shadow: 0px 1px 2px rgba(60, 64, 67, 0.3), 0px 1px 3px 1px rgba(60, 64, 67, 0.15);\n",
              "      fill: #174EA6;\n",
              "    }\n",
              "\n",
              "    [theme=dark] .colab-df-convert {\n",
              "      background-color: #3B4455;\n",
              "      fill: #D2E3FC;\n",
              "    }\n",
              "\n",
              "    [theme=dark] .colab-df-convert:hover {\n",
              "      background-color: #434B5C;\n",
              "      box-shadow: 0px 1px 3px 1px rgba(0, 0, 0, 0.15);\n",
              "      filter: drop-shadow(0px 1px 2px rgba(0, 0, 0, 0.3));\n",
              "      fill: #FFFFFF;\n",
              "    }\n",
              "  </style>\n",
              "\n",
              "      <script>\n",
              "        const buttonEl =\n",
              "          document.querySelector('#df-e2a7a1d7-1074-4bc1-ad51-ba7659aad7f5 button.colab-df-convert');\n",
              "        buttonEl.style.display =\n",
              "          google.colab.kernel.accessAllowed ? 'block' : 'none';\n",
              "\n",
              "        async function convertToInteractive(key) {\n",
              "          const element = document.querySelector('#df-e2a7a1d7-1074-4bc1-ad51-ba7659aad7f5');\n",
              "          const dataTable =\n",
              "            await google.colab.kernel.invokeFunction('convertToInteractive',\n",
              "                                                     [key], {});\n",
              "          if (!dataTable) return;\n",
              "\n",
              "          const docLinkHtml = 'Like what you see? Visit the ' +\n",
              "            '<a target=\"_blank\" href=https://colab.research.google.com/notebooks/data_table.ipynb>data table notebook</a>'\n",
              "            + ' to learn more about interactive tables.';\n",
              "          element.innerHTML = '';\n",
              "          dataTable['output_type'] = 'display_data';\n",
              "          await google.colab.output.renderOutput(dataTable, element);\n",
              "          const docLink = document.createElement('div');\n",
              "          docLink.innerHTML = docLinkHtml;\n",
              "          element.appendChild(docLink);\n",
              "        }\n",
              "      </script>\n",
              "    </div>\n",
              "  </div>\n",
              "  "
            ]
          },
          "metadata": {},
          "execution_count": 62
        }
      ]
    },
    {
      "cell_type": "markdown",
      "source": [
        "Plotando a clusterização"
      ],
      "metadata": {
        "id": "BpvthhsymMo7"
      }
    },
    {
      "cell_type": "code",
      "source": [
        "plt.figure(figsize=(10, 6))\n",
        "sns.scatterplot(data=df_customers_info, x='total_value', y='total_orders', hue='cluster', palette=['red', 'green', 'blue', 'orange'])\n",
        "plt.show()"
      ],
      "metadata": {
        "id": "SZSmEXHtmRSi",
        "colab": {
          "base_uri": "https://localhost:8080/",
          "height": 391
        },
        "outputId": "1c1b4ba4-4231-4dd3-eee3-7d3795c0d0f9"
      },
      "execution_count": 63,
      "outputs": [
        {
          "output_type": "display_data",
          "data": {
            "text/plain": [
              "<Figure size 720x432 with 1 Axes>"
            ],
            "image/png": "[encoded data removed]"
          },
          "metadata": {}
        }
      ]
    },
    {
      "cell_type": "markdown",
      "source": [
        "### Análise Geral dos Clusters"
      ],
      "metadata": {
        "id": "ountBtu_bhfy"
      }
    },
    {
      "cell_type": "markdown",
      "source": [
        "Carregando tabelas para análise de cluster"
      ],
      "metadata": {
        "id": "O-ICRLd1cOZ2"
      }
    },
    {
      "cell_type": "code",
      "source": [
        "df_olist_order_items = pd.read_csv('/content/drive/MyDrive/Colab Notebooks/Projetos/Olist E-commerce/Dados/olist_order_items_dataset.csv')\n",
        "df_olist_products = pd.read_csv('/content/drive/MyDrive/Colab Notebooks/Projetos/Olist E-commerce/Dados/olist_products_dataset.csv')\n",
        "df_olist_reviews = pd.read_csv('/content/drive/MyDrive/Colab Notebooks/Projetos/Olist E-commerce/Dados/olist_order_reviews_dataset.csv')\n",
        "df_olist_geolocation = pd.read_csv('/content/drive/MyDrive/Colab Notebooks/Projetos/Olist E-commerce/Dados/olist_geolocation_dataset.csv')"
      ],
      "metadata": {
        "id": "YgCxRCfGm3gy"
      },
      "execution_count": 64,
      "outputs": []
    },
    {
      "cell_type": "markdown",
      "source": [
        "Juntando tabelas"
      ],
      "metadata": {
        "id": "zzPn7ZFMecnO"
      }
    },
    {
      "cell_type": "code",
      "source": [
        "customers= df_customers_info.merge(right=df_olist_customers, how='inner', on='customer_unique_id')\n",
        "customers_orders = customers.merge(right=df_olist_orders, how='inner', on='customer_id')\n",
        "customers_orders_items = customers_orders.merge(right=df_olist_order_items, how='inner', on='order_id')\n",
        "customers_products = customers_orders_items.merge(right=df_olist_products, how='inner', on='product_id')\n",
        "customers_reviews = customers_orders.merge(df_olist_reviews, how='inner', on='order_id')"
      ],
      "metadata": {
        "id": "LA10rKcrdYVh"
      },
      "execution_count": 65,
      "outputs": []
    },
    {
      "cell_type": "markdown",
      "source": [
        "Total de gastos dos clientes por clusters\n",
        "\n",
        "* O cluster 0 gerou o maior faturamento total"
      ],
      "metadata": {
        "id": "VDtKVp0j7uJt"
      }
    },
    {
      "cell_type": "code",
      "source": [
        "print(customers_products[customers_products['cluster'] == 3]['total_value'].sum())\n",
        "print(customers_products[customers_products['cluster'] == 2]['total_value'].sum())\n",
        "print(customers_products[customers_products['cluster'] == 1]['total_value'].sum())\n",
        "print(customers_products[customers_products['cluster'] == 0]['total_value'].sum())"
      ],
      "metadata": {
        "colab": {
          "base_uri": "https://localhost:8080/"
        },
        "id": "gQAjmvg77vvS",
        "outputId": "a2424da2-6d1c-4d91-8926-04729c706624"
      },
      "execution_count": 66,
      "outputs": [
        {
          "output_type": "stream",
          "name": "stdout",
          "text": [
            "2353779.64\n",
            "2033542.27\n",
            "5097665.25\n",
            "8855412.920000002\n"
          ]
        }
      ]
    },
    {
      "cell_type": "markdown",
      "source": [
        "Média dos gastos dos clientes por cluster\n",
        "\n",
        "* Mesmo o cluster 0 sendo o que gerou maior faturamento total,  obteve o menor faturamento médio.\n",
        "\n",
        "* O cluster 2 gerou o maior faturamento médio."
      ],
      "metadata": {
        "id": "wYsly8tl9fzk"
      }
    },
    {
      "cell_type": "code",
      "source": [
        "print(customers_products[customers_products['cluster'] == 3]['total_value'].mean())\n",
        "print(customers_products[customers_products['cluster'] == 2]['total_value'].mean())\n",
        "print(customers_products[customers_products['cluster'] == 1]['total_value'].mean())\n",
        "print(customers_products[customers_products['cluster'] == 0]['total_value'].mean())"
      ],
      "metadata": {
        "colab": {
          "base_uri": "https://localhost:8080/"
        },
        "id": "ZqX78F8y9g-N",
        "outputId": "cab596c7-ea69-4dff-f1af-bc5721a87bc8"
      },
      "execution_count": 67,
      "outputs": [
        {
          "output_type": "stream",
          "name": "stdout",
          "text": [
            "1841.7681064162755\n",
            "278.376765229295\n",
            "479.9609500047076\n",
            "95.29224375598577\n"
          ]
        }
      ]
    },
    {
      "cell_type": "markdown",
      "source": [
        "Estatísticas descritivas do valor total gasto por cluster"
      ],
      "metadata": {
        "id": "Tnepn-M5-PFp"
      }
    },
    {
      "cell_type": "code",
      "source": [
        "print('Cluster 3')\n",
        "print(customers_products[customers_products['cluster'] == 3]['total_value'].describe())\n",
        "print('___________________________')\n",
        "\n",
        "print('Cluster 2')\n",
        "print(customers_products[customers_products['cluster'] == 2]['total_value'].describe())\n",
        "print('___________________________')\n",
        "\n",
        "print('Cluster 1')\n",
        "print(customers_products[customers_products['cluster'] == 1]['total_value'].describe())\n",
        "print('___________________________')\n",
        "\n",
        "\n",
        "print('Cluster 0')\n",
        "print(customers_products[customers_products['cluster'] == 0]['total_value'].describe())"
      ],
      "metadata": {
        "colab": {
          "base_uri": "https://localhost:8080/"
        },
        "id": "5QxGXoYk-OJ6",
        "outputId": "bfc28f95-91f7-423c-8359-a3787ada51a7"
      },
      "execution_count": 68,
      "outputs": [
        {
          "output_type": "stream",
          "name": "stdout",
          "text": [
            "Cluster 3\n",
            "count     1278.000000\n",
            "mean      1841.768106\n",
            "std       1242.295807\n",
            "min       1089.000000\n",
            "25%       1295.250000\n",
            "50%       1519.730000\n",
            "75%       1977.000000\n",
            "max      13440.000000\n",
            "Name: total_value, dtype: float64\n",
            "___________________________\n",
            "Cluster 2\n",
            "count    7305.000000\n",
            "mean      278.376765\n",
            "std       245.089757\n",
            "min        11.980000\n",
            "25%       119.800000\n",
            "50%       199.800000\n",
            "75%       347.500000\n",
            "max      1980.280000\n",
            "Name: total_value, dtype: float64\n",
            "___________________________\n",
            "Cluster 1\n",
            "count    10621.000000\n",
            "mean       479.960950\n",
            "std        190.402708\n",
            "min        284.000000\n",
            "25%        330.000000\n",
            "50%        399.900000\n",
            "75%        587.700000\n",
            "max       1086.760000\n",
            "Name: total_value, dtype: float64\n",
            "___________________________\n",
            "Cluster 0\n",
            "count    92929.000000\n",
            "mean        95.292244\n",
            "std         63.394357\n",
            "min          0.850000\n",
            "25%         45.000000\n",
            "50%         79.900000\n",
            "75%        132.900000\n",
            "max        283.200000\n",
            "Name: total_value, dtype: float64\n"
          ]
        }
      ]
    },
    {
      "cell_type": "markdown",
      "source": [
        "Distribuição de frequência dos gastos de cada cluster\n",
        "\n",
        "* O cluster 0, apesar de conter a maior quantidade de clientes, em geral executam compras de baixo valor. O valores estão concentrados entre 45 e 132 reais.\n",
        "\n",
        "* O cluster 1 tem o terceiro maior número de clientes. Os valores dos pedios estão concentrados entre 12 e 347 reais.\n",
        "\n",
        "* O cluster 2 tem o menor número de clientes, mas em conpensação, os integrantes desse grupo fazem pedidos com os valores mais elevados entre todos. Os valores estão concentrados entre 1.085 e 1.977 reais.\n",
        "\n",
        "* Por último, o cluster 3 tem o maior equilíbrio. Possui o segundo maior gasto total e o segundo maior gasto médio. Esse grupo possui o segundo maior número de clientes, mas diferentemente do cluster 0, esses clientes tem um patamar maior de gasto dentro da plataforma. Os valores concentram-se entre 281 e 585 reais.\n",
        "\n",
        "\n"
      ],
      "metadata": {
        "id": "x1io2VFt-p-y"
      }
    },
    {
      "cell_type": "code",
      "source": [
        "fig, axes = plt.subplots(nrows=1, ncols=4, figsize=(15,6))\n",
        "fig.tight_layout(pad=5.0)\n",
        "\n",
        "\n",
        "sns.histplot(x=customers_products[customers_products['cluster'] == 3]['total_value'], bins= 15 ,ax=axes[0])\n",
        "axes[0].set_title('Cluster 3')\n",
        "\n",
        "sns.histplot(x=customers_products[customers_products['cluster'] == 2]['total_value'], bins= 15, ax=axes[1])\n",
        "axes[1].set_title('Cluster 2')\n",
        "\n",
        "sns.histplot(x=customers_products[customers_products['cluster'] == 1]['total_value'], bins= 15, ax=axes[2])\n",
        "axes[2].set_title('Cluster 1')\n",
        "\n",
        "sns.histplot(x=customers_products[customers_products['cluster'] == 0]['total_value'], bins= 15, ax=axes[3])\n",
        "axes[3].set_title('Cluster 0')\n",
        "plt.show()"
      ],
      "metadata": {
        "colab": {
          "base_uri": "https://localhost:8080/",
          "height": 380
        },
        "id": "mIeM54EX-kBm",
        "outputId": "eff51fe8-c3b5-4981-b44a-2c86ea34508f"
      },
      "execution_count": 69,
      "outputs": [
        {
          "output_type": "display_data",
          "data": {
            "text/plain": [
              "<Figure size 1080x432 with 4 Axes>"
            ],
            "image/png": "[encoded data removed]"
          },
          "metadata": {}
        }
      ]
    },
    {
      "cell_type": "markdown",
      "source": [
        "### Análise individual dos clusters"
      ],
      "metadata": {
        "id": "HKZhVD1sElCq"
      }
    },
    {
      "cell_type": "markdown",
      "source": [
        "#### Análise do cluster 2: clientes que proporcionaram o maior faturamento médio"
      ],
      "metadata": {
        "id": "YzrlRC8ChOdE"
      }
    },
    {
      "cell_type": "markdown",
      "source": [
        "Faturamento total dos cliente do cluster 2"
      ],
      "metadata": {
        "id": "gZe5wAen2-11"
      }
    },
    {
      "cell_type": "code",
      "source": [
        "customers_2 = customers_products[customers_products['cluster'] == 2]\n",
        "customers_2['total_value'].sum()"
      ],
      "metadata": {
        "id": "8MsLR4tQ3PjO",
        "colab": {
          "base_uri": "https://localhost:8080/"
        },
        "outputId": "9c94958d-c4c0-4f9e-c80b-e51d16739201"
      },
      "execution_count": 70,
      "outputs": [
        {
          "output_type": "execute_result",
          "data": {
            "text/plain": [
              "2033542.27"
            ]
          },
          "metadata": {},
          "execution_count": 70
        }
      ]
    },
    {
      "cell_type": "markdown",
      "source": [
        "Estatísticas descritivas\n",
        "\n",
        "* Para esse grupo, o valor mínimo gasto por um cliente no marketeplace foi 1.084,9 reais, enquanto o valor máximo foi de 13.440 reais.\n",
        "\n",
        "* O máximo de pedidos executados pelo grupo foi de 4, mas a grande maioria  fez apenas 1 pedido.\n",
        "\n",
        "* Os clientes desse grupo, em sua maioria, costumam comprar produtos com preços entre 379 e 1.183 reais.\n",
        "\n"
      ],
      "metadata": {
        "id": "q6PyVfSEhzQH"
      }
    },
    {
      "cell_type": "markdown",
      "source": [
        "Vizualizando estatísticas do price"
      ],
      "metadata": {
        "id": "J0u34UTKHe3l"
      }
    },
    {
      "cell_type": "code",
      "source": [
        "sns.boxplot(customers_2['price'])\n",
        "plt.show()"
      ],
      "metadata": {
        "colab": {
          "base_uri": "https://localhost:8080/",
          "height": 282
        },
        "id": "tVNpLXM0GEGy",
        "outputId": "22d04389-e76d-4ff9-d6c1-8741ed402f9c"
      },
      "execution_count": 71,
      "outputs": [
        {
          "output_type": "display_data",
          "data": {
            "text/plain": [
              "<Figure size 432x288 with 1 Axes>"
            ],
            "image/png": "[encoded data removed]"
          },
          "metadata": {}
        }
      ]
    },
    {
      "cell_type": "code",
      "source": [
        "customers_2[['total_value', 'total_orders', 'price']].describe()"
      ],
      "metadata": {
        "id": "70ZNzjtfhZzd",
        "colab": {
          "base_uri": "https://localhost:8080/",
          "height": 300
        },
        "outputId": "db0a978e-8e61-4bff-e4a0-99975859d4d9"
      },
      "execution_count": 72,
      "outputs": [
        {
          "output_type": "execute_result",
          "data": {
            "text/plain": [
              "       total_value  total_orders        price\n",
              "count  7305.000000   7305.000000  7305.000000\n",
              "mean    278.376765      2.242710    95.063363\n",
              "std     245.089757      0.943842    99.752545\n",
              "min      11.980000      2.000000     2.900000\n",
              "25%     119.800000      2.000000    36.900000\n",
              "50%     199.800000      2.000000    67.800000\n",
              "75%     347.500000      2.000000   119.000000\n",
              "max    1980.280000     16.000000  1199.900000"
            ],
            "text/html": [
              "\n",
              "  <div id=\"df-da5439d8-a414-4f03-b7f0-dc439e7138fc\">\n",
              "    <div class=\"colab-df-container\">\n",
              "      <div>\n",
              "<style scoped>\n",
              "    .dataframe tbody tr th:only-of-type {\n",
              "        vertical-align: middle;\n",
              "    }\n",
              "\n",
              "    .dataframe tbody tr th {\n",
              "        vertical-align: top;\n",
              "    }\n",
              "\n",
              "    .dataframe thead th {\n",
              "        text-align: right;\n",
              "    }\n",
              "</style>\n",
              "<table border=\"1\" class=\"dataframe\">\n",
              "  <thead>\n",
              "    <tr style=\"text-align: right;\">\n",
              "      <th></th>\n",
              "      <th>total_value</th>\n",
              "      <th>total_orders</th>\n",
              "      <th>price</th>\n",
              "    </tr>\n",
              "  </thead>\n",
              "  <tbody>\n",
              "    <tr>\n",
              "      <th>count</th>\n",
              "      <td>7305.000000</td>\n",
              "      <td>7305.000000</td>\n",
              "      <td>7305.000000</td>\n",
              "    </tr>\n",
              "    <tr>\n",
              "      <th>mean</th>\n",
              "      <td>278.376765</td>\n",
              "      <td>2.242710</td>\n",
              "      <td>95.063363</td>\n",
              "    </tr>\n",
              "    <tr>\n",
              "      <th>std</th>\n",
              "      <td>245.089757</td>\n",
              "      <td>0.943842</td>\n",
              "      <td>99.752545</td>\n",
              "    </tr>\n",
              "    <tr>\n",
              "      <th>min</th>\n",
              "      <td>11.980000</td>\n",
              "      <td>2.000000</td>\n",
              "      <td>2.900000</td>\n",
              "    </tr>\n",
              "    <tr>\n",
              "      <th>25%</th>\n",
              "      <td>119.800000</td>\n",
              "      <td>2.000000</td>\n",
              "      <td>36.900000</td>\n",
              "    </tr>\n",
              "    <tr>\n",
              "      <th>50%</th>\n",
              "      <td>199.800000</td>\n",
              "      <td>2.000000</td>\n",
              "      <td>67.800000</td>\n",
              "    </tr>\n",
              "    <tr>\n",
              "      <th>75%</th>\n",
              "      <td>347.500000</td>\n",
              "      <td>2.000000</td>\n",
              "      <td>119.000000</td>\n",
              "    </tr>\n",
              "    <tr>\n",
              "      <th>max</th>\n",
              "      <td>1980.280000</td>\n",
              "      <td>16.000000</td>\n",
              "      <td>1199.900000</td>\n",
              "    </tr>\n",
              "  </tbody>\n",
              "</table>\n",
              "</div>\n",
              "      <button class=\"colab-df-convert\" onclick=\"convertToInteractive('df-da5439d8-a414-4f03-b7f0-dc439e7138fc')\"\n",
              "              title=\"Convert this dataframe to an interactive table.\"\n",
              "              style=\"display:none;\">\n",
              "        \n",
              "  <svg xmlns=\"http://www.w3.org/2000/svg\" height=\"24px\"viewBox=\"0 0 24 24\"\n",
              "       width=\"24px\">\n",
              "    <path d=\"M0 0h24v24H0V0z\" fill=\"none\"/>\n",
              "    <path d=\"M18.56 5.44l.94 2.06.94-2.06 2.06-.94-2.06-.94-.94-2.06-.94 2.06-2.06.94zm-11 1L8.5 8.5l.94-2.06 2.06-.94-2.06-.94L8.5 2.5l-.94 2.06-2.06.94zm10 10l.94 2.06.94-2.06 2.06-.94-2.06-.94-.94-2.06-.94 2.06-2.06.94z\"/><path d=\"M17.41 7.96l-1.37-1.37c-.4-.4-.92-.59-1.43-.59-.52 0-1.04.2-1.43.59L10.3 9.45l-7.72 7.72c-.78.78-.78 2.05 0 2.83L4 21.41c.39.39.9.59 1.41.59.51 0 1.02-.2 1.41-.59l7.78-7.78 2.81-2.81c.8-.78.8-2.07 0-2.86zM5.41 20L4 18.59l7.72-7.72 1.47 1.35L5.41 20z\"/>\n",
              "  </svg>\n",
              "      </button>\n",
              "      \n",
              "  <style>\n",
              "    .colab-df-container {\n",
              "      display:flex;\n",
              "      flex-wrap:wrap;\n",
              "      gap: 12px;\n",
              "    }\n",
              "\n",
              "    .colab-df-convert {\n",
              "      background-color: #E8F0FE;\n",
              "      border: none;\n",
              "      border-radius: 50%;\n",
              "      cursor: pointer;\n",
              "      display: none;\n",
              "      fill: #1967D2;\n",
              "      height: 32px;\n",
              "      padding: 0 0 0 0;\n",
              "      width: 32px;\n",
              "    }\n",
              "\n",
              "    .colab-df-convert:hover {\n",
              "      background-color: #E2EBFA;\n",
              "      box-shadow: 0px 1px 2px rgba(60, 64, 67, 0.3), 0px 1px 3px 1px rgba(60, 64, 67, 0.15);\n",
              "      fill: #174EA6;\n",
              "    }\n",
              "\n",
              "    [theme=dark] .colab-df-convert {\n",
              "      background-color: #3B4455;\n",
              "      fill: #D2E3FC;\n",
              "    }\n",
              "\n",
              "    [theme=dark] .colab-df-convert:hover {\n",
              "      background-color: #434B5C;\n",
              "      box-shadow: 0px 1px 3px 1px rgba(0, 0, 0, 0.15);\n",
              "      filter: drop-shadow(0px 1px 2px rgba(0, 0, 0, 0.3));\n",
              "      fill: #FFFFFF;\n",
              "    }\n",
              "  </style>\n",
              "\n",
              "      <script>\n",
              "        const buttonEl =\n",
              "          document.querySelector('#df-da5439d8-a414-4f03-b7f0-dc439e7138fc button.colab-df-convert');\n",
              "        buttonEl.style.display =\n",
              "          google.colab.kernel.accessAllowed ? 'block' : 'none';\n",
              "\n",
              "        async function convertToInteractive(key) {\n",
              "          const element = document.querySelector('#df-da5439d8-a414-4f03-b7f0-dc439e7138fc');\n",
              "          const dataTable =\n",
              "            await google.colab.kernel.invokeFunction('convertToInteractive',\n",
              "                                                     [key], {});\n",
              "          if (!dataTable) return;\n",
              "\n",
              "          const docLinkHtml = 'Like what you see? Visit the ' +\n",
              "            '<a target=\"_blank\" href=https://colab.research.google.com/notebooks/data_table.ipynb>data table notebook</a>'\n",
              "            + ' to learn more about interactive tables.';\n",
              "          element.innerHTML = '';\n",
              "          dataTable['output_type'] = 'display_data';\n",
              "          await google.colab.output.renderOutput(dataTable, element);\n",
              "          const docLink = document.createElement('div');\n",
              "          docLink.innerHTML = docLinkHtml;\n",
              "          element.appendChild(docLink);\n",
              "        }\n",
              "      </script>\n",
              "    </div>\n",
              "  </div>\n",
              "  "
            ]
          },
          "metadata": {},
          "execution_count": 72
        }
      ]
    },
    {
      "cell_type": "markdown",
      "source": [
        "Quais estados tem maior número de pedidos com relação a clientes do cluster 2?\n",
        "\n",
        "* Os estados com mais pedidos para os clientes do cluster 2 são São Paulo, Rio de Janeiro e Minas Gerais."
      ],
      "metadata": {
        "id": "ep0awn_d46Lc"
      }
    },
    {
      "cell_type": "code",
      "source": [
        "customers_2['customer_state'].value_counts()"
      ],
      "metadata": {
        "id": "sVtb_VV962iE",
        "colab": {
          "base_uri": "https://localhost:8080/"
        },
        "outputId": "70b5fcf3-35da-4ae3-d8fc-59a6186009be"
      },
      "execution_count": 73,
      "outputs": [
        {
          "output_type": "execute_result",
          "data": {
            "text/plain": [
              "SP    3202\n",
              "RJ    1028\n",
              "MG     831\n",
              "RS     406\n",
              "PR     368\n",
              "SC     258\n",
              "BA     226\n",
              "DF     146\n",
              "ES     141\n",
              "GO     138\n",
              "PE      99\n",
              "MT      71\n",
              "CE      51\n",
              "PA      50\n",
              "MS      43\n",
              "MA      43\n",
              "RO      30\n",
              "PB      30\n",
              "PI      25\n",
              "SE      25\n",
              "RN      25\n",
              "AL      23\n",
              "TO      16\n",
              "AM      13\n",
              "AC      10\n",
              "AP       4\n",
              "RR       3\n",
              "Name: customer_state, dtype: int64"
            ]
          },
          "metadata": {},
          "execution_count": 73
        }
      ]
    },
    {
      "cell_type": "code",
      "source": [
        "plt.figure(figsize=(15,6))\n",
        "sns.countplot(customers_2['customer_state'], order=customers_2['customer_state'].value_counts().index)\n",
        "plt.show()"
      ],
      "metadata": {
        "id": "R9lwBvfylZZn",
        "colab": {
          "base_uri": "https://localhost:8080/",
          "height": 391
        },
        "outputId": "24f31d5e-9531-4647-da26-747e2b9c1959"
      },
      "execution_count": 74,
      "outputs": [
        {
          "output_type": "display_data",
          "data": {
            "text/plain": [
              "<Figure size 1080x432 with 1 Axes>"
            ],
            "image/png": "[encoded data removed]"
          },
          "metadata": {}
        }
      ]
    },
    {
      "cell_type": "markdown",
      "source": [
        "Quais categorias de produtos são mais compradas por clientes do cluster 2?\n",
        "\n",
        "* As categorias de produto mais compradas são artigos de informática, PCs, beleza e Saúde, e artigos automotivos.\n",
        "\n",
        "* Dessa forma, essas categorias poderiam ser recomendadas para clientes desse grupo. "
      ],
      "metadata": {
        "id": "pR8u9E9p8_yf"
      }
    },
    {
      "cell_type": "code",
      "source": [
        "plt.figure(figsize=(6,20))\n",
        "sns.countplot(data=customers_2, y='product_category_name', order=customers_2['product_category_name'].value_counts().index)\n",
        "plt.show()"
      ],
      "metadata": {
        "id": "KDMWFJTu9on9",
        "colab": {
          "base_uri": "https://localhost:8080/",
          "height": 1000
        },
        "outputId": "b3895b03-58e1-4ce6-e4bc-d707385c8fea"
      },
      "execution_count": 75,
      "outputs": [
        {
          "output_type": "display_data",
          "data": {
            "text/plain": [
              "<Figure size 432x1440 with 1 Axes>"
            ],
            "image/png": "[encoded data removed]"
          },
          "metadata": {}
        }
      ]
    },
    {
      "cell_type": "markdown",
      "source": [
        "Qual o comportamento dos reviews do cluster 2?"
      ],
      "metadata": {
        "id": "j8oqI1DTKdkV"
      }
    },
    {
      "cell_type": "markdown",
      "source": [
        "Score médio de review"
      ],
      "metadata": {
        "id": "RCaxt3kXKk2A"
      }
    },
    {
      "cell_type": "code",
      "source": [
        "customers_reviews[customers_reviews['cluster'] == 2]['review_score'].mean()"
      ],
      "metadata": {
        "colab": {
          "base_uri": "https://localhost:8080/"
        },
        "id": "B8TlIwq-Ko33",
        "outputId": "9d3f3e11-26c9-44ec-9c03-9744626baa57"
      },
      "execution_count": 76,
      "outputs": [
        {
          "output_type": "execute_result",
          "data": {
            "text/plain": [
              "4.166434648105182"
            ]
          },
          "metadata": {},
          "execution_count": 76
        }
      ]
    },
    {
      "cell_type": "markdown",
      "source": [
        "Frequência de reviews\n",
        "\n",
        "* A maioria dos reviews tem nota 5\n",
        "\n",
        "* 142 reviews tem nota 1, demostrando que alguns clientes desse grupo não gostaram muito da experiência no marketplace."
      ],
      "metadata": {
        "id": "DTzyRoMEKvBX"
      }
    },
    {
      "cell_type": "code",
      "source": [
        "customers_reviews[customers_reviews['cluster'] == 2]['review_score'].value_counts()"
      ],
      "metadata": {
        "id": "a5cWVob_9dSQ",
        "colab": {
          "base_uri": "https://localhost:8080/"
        },
        "outputId": "83331626-530d-4461-c94f-8e092ae12c22"
      },
      "execution_count": 77,
      "outputs": [
        {
          "output_type": "execute_result",
          "data": {
            "text/plain": [
              "5    3962\n",
              "4    1128\n",
              "1     663\n",
              "3     527\n",
              "2     185\n",
              "Name: review_score, dtype: int64"
            ]
          },
          "metadata": {},
          "execution_count": 77
        }
      ]
    },
    {
      "cell_type": "markdown",
      "source": [
        "#### Análise do cluster 0: grupo com maior número de pedidos e maior faturamento total"
      ],
      "metadata": {
        "id": "aAPstVyjO51N"
      }
    },
    {
      "cell_type": "code",
      "source": [
        "customers_0 = customers_products[customers_products['cluster'] == 0]"
      ],
      "metadata": {
        "id": "_YGTipmkLGI_"
      },
      "execution_count": 78,
      "outputs": []
    },
    {
      "cell_type": "markdown",
      "source": [
        "Estatísticas decritivas\n",
        "\n",
        "* Todos os clientes desse grupo executaram apenas um pedido."
      ],
      "metadata": {
        "id": "-hN_HcOLPTts"
      }
    },
    {
      "cell_type": "code",
      "source": [
        "customers_0.describe()"
      ],
      "metadata": {
        "id": "CywMOL3ePR2E",
        "colab": {
          "base_uri": "https://localhost:8080/",
          "height": 364
        },
        "outputId": "21d84e6d-ccaf-4a44-a13a-c1b0f04501f7"
      },
      "execution_count": 79,
      "outputs": [
        {
          "output_type": "execute_result",
          "data": {
            "text/plain": [
              "        total_value  total_orders  cluster  customer_zip_code_prefix  \\\n",
              "count  92929.000000       92929.0  92929.0              92929.000000   \n",
              "mean      95.292244           1.0      0.0              34786.848874   \n",
              "std       63.394357           0.0      0.0              29786.607254   \n",
              "min        0.850000           1.0      0.0               1003.000000   \n",
              "25%       45.000000           1.0      0.0              11060.000000   \n",
              "50%       79.900000           1.0      0.0              24220.000000   \n",
              "75%      132.900000           1.0      0.0              58030.000000   \n",
              "max      283.200000           1.0      0.0              99990.000000   \n",
              "\n",
              "       order_item_id         price  freight_value  product_name_lenght  \\\n",
              "count   92929.000000  92929.000000   92929.000000         91532.000000   \n",
              "mean        1.141753     82.323797      18.360565            48.753190   \n",
              "std         0.524307     58.259378      11.440843            10.079482   \n",
              "min         1.000000      0.850000       0.000000             5.000000   \n",
              "25%         1.000000     37.900000      12.800000            42.000000   \n",
              "50%         1.000000     65.990000      15.930000            52.000000   \n",
              "75%         1.000000    114.900000      19.660000            57.000000   \n",
              "max        21.000000    283.200000     244.340000            76.000000   \n",
              "\n",
              "       product_description_lenght  product_photos_qty  product_weight_g  \\\n",
              "count                91532.000000        91532.000000      92915.000000   \n",
              "mean                   757.778078            2.206387       1727.723597   \n",
              "std                    621.075581            1.726216       2980.020329   \n",
              "min                      4.000000            1.000000          0.000000   \n",
              "25%                    341.000000            1.000000        250.000000   \n",
              "50%                    589.000000            1.000000        600.000000   \n",
              "75%                    947.000000            3.000000       1600.000000   \n",
              "max                   3988.000000           20.000000      40425.000000   \n",
              "\n",
              "       product_length_cm  product_height_cm  product_width_cm  \n",
              "count       92915.000000       92915.000000      92915.000000  \n",
              "mean           29.387225          15.741990         22.450013  \n",
              "std            15.546289          12.473371         11.192004  \n",
              "min             7.000000           2.000000          7.000000  \n",
              "25%            18.000000           8.000000         15.000000  \n",
              "50%            24.000000          12.000000         20.000000  \n",
              "75%            36.000000          20.000000         30.000000  \n",
              "max           105.000000         105.000000        118.000000  "
            ],
            "text/html": [
              "\n",
              "  <div id=\"df-51d65515-c804-4763-b930-a2447e4a669d\">\n",
              "    <div class=\"colab-df-container\">\n",
              "      <div>\n",
              "<style scoped>\n",
              "    .dataframe tbody tr th:only-of-type {\n",
              "        vertical-align: middle;\n",
              "    }\n",
              "\n",
              "    .dataframe tbody tr th {\n",
              "        vertical-align: top;\n",
              "    }\n",
              "\n",
              "    .dataframe thead th {\n",
              "        text-align: right;\n",
              "    }\n",
              "</style>\n",
              "<table border=\"1\" class=\"dataframe\">\n",
              "  <thead>\n",
              "    <tr style=\"text-align: right;\">\n",
              "      <th></th>\n",
              "      <th>total_value</th>\n",
              "      <th>total_orders</th>\n",
              "      <th>cluster</th>\n",
              "      <th>customer_zip_code_prefix</th>\n",
              "      <th>order_item_id</th>\n",
              "      <th>price</th>\n",
              "      <th>freight_value</th>\n",
              "      <th>product_name_lenght</th>\n",
              "      <th>product_description_lenght</th>\n",
              "      <th>product_photos_qty</th>\n",
              "      <th>product_weight_g</th>\n",
              "      <th>product_length_cm</th>\n",
              "      <th>product_height_cm</th>\n",
              "      <th>product_width_cm</th>\n",
              "    </tr>\n",
              "  </thead>\n",
              "  <tbody>\n",
              "    <tr>\n",
              "      <th>count</th>\n",
              "      <td>92929.000000</td>\n",
              "      <td>92929.0</td>\n",
              "      <td>92929.0</td>\n",
              "      <td>92929.000000</td>\n",
              "      <td>92929.000000</td>\n",
              "      <td>92929.000000</td>\n",
              "      <td>92929.000000</td>\n",
              "      <td>91532.000000</td>\n",
              "      <td>91532.000000</td>\n",
              "      <td>91532.000000</td>\n",
              "      <td>92915.000000</td>\n",
              "      <td>92915.000000</td>\n",
              "      <td>92915.000000</td>\n",
              "      <td>92915.000000</td>\n",
              "    </tr>\n",
              "    <tr>\n",
              "      <th>mean</th>\n",
              "      <td>95.292244</td>\n",
              "      <td>1.0</td>\n",
              "      <td>0.0</td>\n",
              "      <td>34786.848874</td>\n",
              "      <td>1.141753</td>\n",
              "      <td>82.323797</td>\n",
              "      <td>18.360565</td>\n",
              "      <td>48.753190</td>\n",
              "      <td>757.778078</td>\n",
              "      <td>2.206387</td>\n",
              "      <td>1727.723597</td>\n",
              "      <td>29.387225</td>\n",
              "      <td>15.741990</td>\n",
              "      <td>22.450013</td>\n",
              "    </tr>\n",
              "    <tr>\n",
              "      <th>std</th>\n",
              "      <td>63.394357</td>\n",
              "      <td>0.0</td>\n",
              "      <td>0.0</td>\n",
              "      <td>29786.607254</td>\n",
              "      <td>0.524307</td>\n",
              "      <td>58.259378</td>\n",
              "      <td>11.440843</td>\n",
              "      <td>10.079482</td>\n",
              "      <td>621.075581</td>\n",
              "      <td>1.726216</td>\n",
              "      <td>2980.020329</td>\n",
              "      <td>15.546289</td>\n",
              "      <td>12.473371</td>\n",
              "      <td>11.192004</td>\n",
              "    </tr>\n",
              "    <tr>\n",
              "      <th>min</th>\n",
              "      <td>0.850000</td>\n",
              "      <td>1.0</td>\n",
              "      <td>0.0</td>\n",
              "      <td>1003.000000</td>\n",
              "      <td>1.000000</td>\n",
              "      <td>0.850000</td>\n",
              "      <td>0.000000</td>\n",
              "      <td>5.000000</td>\n",
              "      <td>4.000000</td>\n",
              "      <td>1.000000</td>\n",
              "      <td>0.000000</td>\n",
              "      <td>7.000000</td>\n",
              "      <td>2.000000</td>\n",
              "      <td>7.000000</td>\n",
              "    </tr>\n",
              "    <tr>\n",
              "      <th>25%</th>\n",
              "      <td>45.000000</td>\n",
              "      <td>1.0</td>\n",
              "      <td>0.0</td>\n",
              "      <td>11060.000000</td>\n",
              "      <td>1.000000</td>\n",
              "      <td>37.900000</td>\n",
              "      <td>12.800000</td>\n",
              "      <td>42.000000</td>\n",
              "      <td>341.000000</td>\n",
              "      <td>1.000000</td>\n",
              "      <td>250.000000</td>\n",
              "      <td>18.000000</td>\n",
              "      <td>8.000000</td>\n",
              "      <td>15.000000</td>\n",
              "    </tr>\n",
              "    <tr>\n",
              "      <th>50%</th>\n",
              "      <td>79.900000</td>\n",
              "      <td>1.0</td>\n",
              "      <td>0.0</td>\n",
              "      <td>24220.000000</td>\n",
              "      <td>1.000000</td>\n",
              "      <td>65.990000</td>\n",
              "      <td>15.930000</td>\n",
              "      <td>52.000000</td>\n",
              "      <td>589.000000</td>\n",
              "      <td>1.000000</td>\n",
              "      <td>600.000000</td>\n",
              "      <td>24.000000</td>\n",
              "      <td>12.000000</td>\n",
              "      <td>20.000000</td>\n",
              "    </tr>\n",
              "    <tr>\n",
              "      <th>75%</th>\n",
              "      <td>132.900000</td>\n",
              "      <td>1.0</td>\n",
              "      <td>0.0</td>\n",
              "      <td>58030.000000</td>\n",
              "      <td>1.000000</td>\n",
              "      <td>114.900000</td>\n",
              "      <td>19.660000</td>\n",
              "      <td>57.000000</td>\n",
              "      <td>947.000000</td>\n",
              "      <td>3.000000</td>\n",
              "      <td>1600.000000</td>\n",
              "      <td>36.000000</td>\n",
              "      <td>20.000000</td>\n",
              "      <td>30.000000</td>\n",
              "    </tr>\n",
              "    <tr>\n",
              "      <th>max</th>\n",
              "      <td>283.200000</td>\n",
              "      <td>1.0</td>\n",
              "      <td>0.0</td>\n",
              "      <td>99990.000000</td>\n",
              "      <td>21.000000</td>\n",
              "      <td>283.200000</td>\n",
              "      <td>244.340000</td>\n",
              "      <td>76.000000</td>\n",
              "      <td>3988.000000</td>\n",
              "      <td>20.000000</td>\n",
              "      <td>40425.000000</td>\n",
              "      <td>105.000000</td>\n",
              "      <td>105.000000</td>\n",
              "      <td>118.000000</td>\n",
              "    </tr>\n",
              "  </tbody>\n",
              "</table>\n",
              "</div>\n",
              "      <button class=\"colab-df-convert\" onclick=\"convertToInteractive('df-51d65515-c804-4763-b930-a2447e4a669d')\"\n",
              "              title=\"Convert this dataframe to an interactive table.\"\n",
              "              style=\"display:none;\">\n",
              "        \n",
              "  <svg xmlns=\"http://www.w3.org/2000/svg\" height=\"24px\"viewBox=\"0 0 24 24\"\n",
              "       width=\"24px\">\n",
              "    <path d=\"M0 0h24v24H0V0z\" fill=\"none\"/>\n",
              "    <path d=\"M18.56 5.44l.94 2.06.94-2.06 2.06-.94-2.06-.94-.94-2.06-.94 2.06-2.06.94zm-11 1L8.5 8.5l.94-2.06 2.06-.94-2.06-.94L8.5 2.5l-.94 2.06-2.06.94zm10 10l.94 2.06.94-2.06 2.06-.94-2.06-.94-.94-2.06-.94 2.06-2.06.94z\"/><path d=\"M17.41 7.96l-1.37-1.37c-.4-.4-.92-.59-1.43-.59-.52 0-1.04.2-1.43.59L10.3 9.45l-7.72 7.72c-.78.78-.78 2.05 0 2.83L4 21.41c.39.39.9.59 1.41.59.51 0 1.02-.2 1.41-.59l7.78-7.78 2.81-2.81c.8-.78.8-2.07 0-2.86zM5.41 20L4 18.59l7.72-7.72 1.47 1.35L5.41 20z\"/>\n",
              "  </svg>\n",
              "      </button>\n",
              "      \n",
              "  <style>\n",
              "    .colab-df-container {\n",
              "      display:flex;\n",
              "      flex-wrap:wrap;\n",
              "      gap: 12px;\n",
              "    }\n",
              "\n",
              "    .colab-df-convert {\n",
              "      background-color: #E8F0FE;\n",
              "      border: none;\n",
              "      border-radius: 50%;\n",
              "      cursor: pointer;\n",
              "      display: none;\n",
              "      fill: #1967D2;\n",
              "      height: 32px;\n",
              "      padding: 0 0 0 0;\n",
              "      width: 32px;\n",
              "    }\n",
              "\n",
              "    .colab-df-convert:hover {\n",
              "      background-color: #E2EBFA;\n",
              "      box-shadow: 0px 1px 2px rgba(60, 64, 67, 0.3), 0px 1px 3px 1px rgba(60, 64, 67, 0.15);\n",
              "      fill: #174EA6;\n",
              "    }\n",
              "\n",
              "    [theme=dark] .colab-df-convert {\n",
              "      background-color: #3B4455;\n",
              "      fill: #D2E3FC;\n",
              "    }\n",
              "\n",
              "    [theme=dark] .colab-df-convert:hover {\n",
              "      background-color: #434B5C;\n",
              "      box-shadow: 0px 1px 3px 1px rgba(0, 0, 0, 0.15);\n",
              "      filter: drop-shadow(0px 1px 2px rgba(0, 0, 0, 0.3));\n",
              "      fill: #FFFFFF;\n",
              "    }\n",
              "  </style>\n",
              "\n",
              "      <script>\n",
              "        const buttonEl =\n",
              "          document.querySelector('#df-51d65515-c804-4763-b930-a2447e4a669d button.colab-df-convert');\n",
              "        buttonEl.style.display =\n",
              "          google.colab.kernel.accessAllowed ? 'block' : 'none';\n",
              "\n",
              "        async function convertToInteractive(key) {\n",
              "          const element = document.querySelector('#df-51d65515-c804-4763-b930-a2447e4a669d');\n",
              "          const dataTable =\n",
              "            await google.colab.kernel.invokeFunction('convertToInteractive',\n",
              "                                                     [key], {});\n",
              "          if (!dataTable) return;\n",
              "\n",
              "          const docLinkHtml = 'Like what you see? Visit the ' +\n",
              "            '<a target=\"_blank\" href=https://colab.research.google.com/notebooks/data_table.ipynb>data table notebook</a>'\n",
              "            + ' to learn more about interactive tables.';\n",
              "          element.innerHTML = '';\n",
              "          dataTable['output_type'] = 'display_data';\n",
              "          await google.colab.output.renderOutput(dataTable, element);\n",
              "          const docLink = document.createElement('div');\n",
              "          docLink.innerHTML = docLinkHtml;\n",
              "          element.appendChild(docLink);\n",
              "        }\n",
              "      </script>\n",
              "    </div>\n",
              "  </div>\n",
              "  "
            ]
          },
          "metadata": {},
          "execution_count": 79
        }
      ]
    },
    {
      "cell_type": "markdown",
      "source": [
        "Quais estados tem maior número de pedidos com relação a clientes do cluster 0?\n",
        "\n",
        "* Os estados com mais pedidos para os clientes do cluster  são São Paulo, Rio de Janeiro e Minas Gerais."
      ],
      "metadata": {
        "id": "LSqGlgZqQV8V"
      }
    },
    {
      "cell_type": "code",
      "source": [
        "customers_0['customer_state'].value_counts()"
      ],
      "metadata": {
        "id": "gZ8yuapQPYbz",
        "colab": {
          "base_uri": "https://localhost:8080/"
        },
        "outputId": "a530db70-e0f8-44a4-e1ff-4b0056efbbf6"
      },
      "execution_count": 80,
      "outputs": [
        {
          "output_type": "execute_result",
          "data": {
            "text/plain": [
              "SP    39602\n",
              "RJ    11993\n",
              "MG    10993\n",
              "RS     5107\n",
              "PR     4689\n",
              "SC     3458\n",
              "BA     3072\n",
              "DF     1985\n",
              "ES     1902\n",
              "GO     1869\n",
              "PE     1458\n",
              "CE     1154\n",
              "PA      840\n",
              "MT      803\n",
              "MS      678\n",
              "MA      645\n",
              "PB      447\n",
              "PI      426\n",
              "RN      423\n",
              "AL      337\n",
              "SE      297\n",
              "TO      253\n",
              "RO      203\n",
              "AM      133\n",
              "AP       66\n",
              "AC       59\n",
              "RR       37\n",
              "Name: customer_state, dtype: int64"
            ]
          },
          "metadata": {},
          "execution_count": 80
        }
      ]
    },
    {
      "cell_type": "code",
      "source": [
        "plt.figure(figsize=(15,6))\n",
        "sns.countplot(customers_0['customer_state'], order=customers_0['customer_state'].value_counts().index)\n",
        "plt.show()"
      ],
      "metadata": {
        "id": "hLiM-aRUQfgi",
        "colab": {
          "base_uri": "https://localhost:8080/",
          "height": 391
        },
        "outputId": "b43a9bad-2034-4dc3-ff45-cf64b19ff815"
      },
      "execution_count": 81,
      "outputs": [
        {
          "output_type": "display_data",
          "data": {
            "text/plain": [
              "<Figure size 1080x432 with 1 Axes>"
            ],
            "image/png": "[encoded data removed]"
          },
          "metadata": {}
        }
      ]
    },
    {
      "cell_type": "markdown",
      "source": [
        "Quais categorias de produtos são mais compradas por clientes do cluster 0?\n",
        "\n",
        "* As categorias de produto mais compradas são artigos de cama, mesa e banho, beleza e saúde, esporte e lazer e móveis e decuração.\n",
        "\n",
        "* Artigos de informática, por serem mais caros, é apen as a quinta categoria com mais pedidos.\n",
        "\n",
        "* PCs, que para o cluster 2 ficou em primeiro, para esse grupo ficou em último."
      ],
      "metadata": {
        "id": "0FiMNhj5RGxr"
      }
    },
    {
      "cell_type": "code",
      "source": [
        "plt.figure(figsize=(6,20))\n",
        "sns.countplot(data=customers_0, y='product_category_name', order=customers_0['product_category_name'].value_counts().index)\n",
        "plt.show()"
      ],
      "metadata": {
        "id": "IXatTdB7RQTK",
        "colab": {
          "base_uri": "https://localhost:8080/",
          "height": 1000
        },
        "outputId": "6aa383f9-79e2-4ba1-f94e-5d45f69d4a6b"
      },
      "execution_count": 82,
      "outputs": [
        {
          "output_type": "display_data",
          "data": {
            "text/plain": [
              "<Figure size 432x1440 with 1 Axes>"
            ],
            "image/png": "[encoded data removed]"
          },
          "metadata": {}
        }
      ]
    },
    {
      "cell_type": "markdown",
      "source": [
        "Qual o comportamento dos reviews do cluster 0?"
      ],
      "metadata": {
        "id": "GE4-E9zJS8Ka"
      }
    },
    {
      "cell_type": "markdown",
      "source": [
        "Review score médio\n",
        "\n",
        "* O score médio dos reviews é 4,1. Média maior que o cluster 2."
      ],
      "metadata": {
        "id": "P99CubfNTJVo"
      }
    },
    {
      "cell_type": "code",
      "source": [
        "customers_reviews[customers_reviews['cluster'] == 0]['review_score'].mean()"
      ],
      "metadata": {
        "colab": {
          "base_uri": "https://localhost:8080/"
        },
        "id": "FNM9XpFmTEVL",
        "outputId": "c4cbbbc0-06a9-48e3-998f-4fcc42bd0acc"
      },
      "execution_count": 83,
      "outputs": [
        {
          "output_type": "execute_result",
          "data": {
            "text/plain": [
              "4.124712373655234"
            ]
          },
          "metadata": {},
          "execution_count": 83
        }
      ]
    },
    {
      "cell_type": "markdown",
      "source": [
        "Frequência dos reviews\n",
        "\n",
        "* A maior parte dos clientes deu nota 5\n",
        "\n",
        "* Review com nota 1 teve a terceira maior frequência"
      ],
      "metadata": {
        "id": "D-eWTov0Tm-C"
      }
    },
    {
      "cell_type": "code",
      "source": [
        "customers_reviews[customers_reviews['cluster'] == 0]['review_score'].value_counts()"
      ],
      "metadata": {
        "colab": {
          "base_uri": "https://localhost:8080/"
        },
        "id": "jlL8L75zTpqQ",
        "outputId": "b25a4937-3632-4bfe-96e6-13bdd650a017"
      },
      "execution_count": 84,
      "outputs": [
        {
          "output_type": "execute_result",
          "data": {
            "text/plain": [
              "5    48436\n",
              "4    16387\n",
              "1     8650\n",
              "3     6934\n",
              "2     2600\n",
              "Name: review_score, dtype: int64"
            ]
          },
          "metadata": {},
          "execution_count": 84
        }
      ]
    },
    {
      "cell_type": "code",
      "source": [],
      "metadata": {
        "id": "hPWWEPDmTtQR"
      },
      "execution_count": 84,
      "outputs": []
    }
  ]
}